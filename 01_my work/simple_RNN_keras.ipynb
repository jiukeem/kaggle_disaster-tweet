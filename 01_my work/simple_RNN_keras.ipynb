{
 "cells": [
  {
   "cell_type": "code",
   "execution_count": 1,
   "metadata": {
    "_cell_guid": "b1076dfc-b9ad-4769-8c92-a6c4dae69d19",
    "_uuid": "8f2839f25d086af736a60e9eeb907d3b93b6e0e5"
   },
   "outputs": [
    {
     "name": "stdout",
     "output_type": "stream",
     "text": [
      "/kaggle/input/nlp-getting-started/sample_submission.csv\n",
      "/kaggle/input/nlp-getting-started/test.csv\n",
      "/kaggle/input/nlp-getting-started/train.csv\n"
     ]
    }
   ],
   "source": [
    "# This Python 3 environment comes with many helpful analytics libraries installed\n",
    "# It is defined by the kaggle/python Docker image: https://github.com/kaggle/docker-python\n",
    "# For example, here's several helpful packages to load\n",
    "\n",
    "import numpy as np # linear algebra\n",
    "import pandas as pd # data processing, CSV file I/O (e.g. pd.read_csv)\n",
    "\n",
    "# Input data files are available in the read-only \"../input/\" directory\n",
    "# For example, running this (by clicking run or pressing Shift+Enter) will list all files under the input directory\n",
    "\n",
    "import os\n",
    "for dirname, _, filenames in os.walk('/kaggle/input'):\n",
    "    for filename in filenames:\n",
    "        print(os.path.join(dirname, filename))\n",
    "\n",
    "# You can write up to 5GB to the current directory (/kaggle/working/) that gets preserved as output when you create a version using \"Save & Run All\" \n",
    "# You can also write temporary files to /kaggle/temp/, but they won't be saved outside of the current session"
   ]
  },
  {
   "cell_type": "code",
   "execution_count": 2,
   "metadata": {
    "_cell_guid": "79c7e3d0-c299-4dcb-8224-4455121ee9b0",
    "_uuid": "d629ff2d2480ee46fbb7e2d37f6b5fab8052498a"
   },
   "outputs": [
    {
     "name": "stdout",
     "output_type": "stream",
     "text": [
      "train set shape = (7613, 5)\n",
      "test set shape = (3263, 4)\n",
      "   id keyword location                                               text  \\\n",
      "0   1     NaN      NaN  Our Deeds are the Reason of this #earthquake M...   \n",
      "1   4     NaN      NaN             Forest fire near La Ronge Sask. Canada   \n",
      "2   5     NaN      NaN  All residents asked to 'shelter in place' are ...   \n",
      "3   6     NaN      NaN  13,000 people receive #wildfires evacuation or...   \n",
      "4   7     NaN      NaN  Just got sent this photo from Ruby #Alaska as ...   \n",
      "\n",
      "   target  \n",
      "0       1  \n",
      "1       1  \n",
      "2       1  \n",
      "3       1  \n",
      "4       1  \n",
      "0             deed reason earthquak may allah forgiv u\n",
      "1                    forest fire near rong sask canada\n",
      "2    resid ask shelter place notifi offic evacu she...\n",
      "3    13000 peopl receiv wildfir evacu order california\n",
      "4    got sent photo rubi alaska smoke wildfir pour ...\n",
      "Name: text, dtype: object\n",
      "0     [deed, reason, earthquak, may, allah, forgiv, u]\n",
      "1             [forest, fire, near, rong, sask, canada]\n",
      "2    [resid, ask, shelter, place, notifi, offic, ev...\n",
      "3    [13000, peopl, receiv, wildfir, evacu, order, ...\n",
      "4    [got, sent, photo, rubi, alaska, smoke, wildfi...\n",
      "Name: text, dtype: object\n",
      "25233\n",
      "{'like': 1, 'fire': 2, 'get': 3, 'amp': 4, 'go': 5, 'new': 6, 'via': 7, 'bomb': 8, 'news': 9, 'peopl': 10, 'dont': 11, 'burn': 12, 'kill': 13, 'attack': 14, 'u': 15, 'video': 16, 'emerg': 17, '2': 18, 'flood': 19, 'crash': 20, 'time': 21, 'disast': 22, 'build': 23, 'year': 24, 'would': 25, 'say': 26, 'bodi': 27, 'polic': 28, 'look': 29, 'love': 30, 'make': 31, 'watch': 32, 'day': 33, 'life': 34, 'storm': 35, 'see': 36, 'home': 37, 'still': 38, 'famili': 39, 'train': 40, 'got': 41, 'fatal': 42, 'suicid': 43, 'know': 44, 'evacu': 45, 'collaps': 46, 'first': 47, 'rt': 48, 'scream': 49, 'bag': 50, 'back': 51, 'world': 52, 'california': 53, 'car': 54, 'think': 55, 'death': 56, 'derail': 57, 'drown': 58, 'need': 59, 'caus': 60, '3': 61, 'two': 62, 'today': 63, 'obliter': 64, 'cant': 65, 'deton': 66, 'servic': 67, 'nuclear': 68, 'full': 69, 'hijack': 70, 'destroy': 71, 'hiroshima': 72, 'feel': 73, 'surviv': 74, 'let': 75, 'dead': 76, 'youtub': 77, 'plan': 78, 'work': 79, 'accid': 80, 'last': 81, 'woman': 82, 'even': 83, 'fuck': 84, 'murder': 85, 'wreck': 86, 'fear': 87, 'good': 88, 'wound': 89, 'help': 90, 'way': 91, 'rescu': 92, 'live': 93, 'call': 94, 'wildfir': 95, 'hous': 96, 'weapon': 97, 'right': 98, 'could': 99, 'mani': 100, 'may': 101, 'injuri': 102, 'tri': 103, 'use': 104, 'report': 105, 'explod': 106, 'na': 107, 'best': 108, 'save': 109, 'wave': 110, 'stop': 111, 'riot': 112, 'forest': 113, 'armi': 114, 'catastroph': 115, 'mass': 116, 'demolish': 117, 'hazard': 118, 'thing': 119, '1': 120, 'run': 121, 'collid': 122, 'crush': 123, 'quarantin': 124, 'black': 125, 'read': 126, 'god': 127, 'hostag': 128, 'water': 129, 'come': 130, 'realli': 131, 'pleas': 132, 'anoth': 133, '5': 134, 'lol': 135, 'post': 136, 'never': 137, 'miss': 138, 'bomber': 139, 'hot': 140, 'electrocut': 141, 'photo': 142, 'citi': 143, 'chang': 144, 'hope': 145, 'mh370': 146, 'damag': 147, 'show': 148, 'warn': 149, 'school': 150, 'pm': 151, 'delug': 152, 'your': 153, '4': 154, 'set': 155, '\\x89û': 156, 'play': 157, 'fall': 158, 'old': 159, 'happen': 160, 'northern': 161, 'state': 162, 'annihil': 163, '2015': 164, 'casualti': 165, 'near': 166, 'much': 167, 'obama': 168, 'break': 169, 'releas': 170, 'desol': 171, 'thank': 172, 'hit': 173, 'bioterror': 174, 'night': 175, 'great': 176, 'japan': 177, 'investig': 178, 'sever': 179, 'devast': 180, 'reddit': 181, 'top': 182, 'issu': 183, 'wild': 184, 'rain': 185, 'truck': 186, 'said': 187, 'nation': 188, 'start': 189, 'latest': 190, 'flame': 191, 'respond': 192, 'atom': 193, 'confirm': 194, 'updat': 195, 'shit': 196, 'natur': 197, 'boy': 198, 'stori': 199, 'injur': 200, 'smoke': 201, 'siren': 202, 'terror': 203, 'thunderstorm': 204, 'legionnair': 205, 'game': 206, 'head': 207, 'ever': 208, 'wind': 209, 'suspect': 210, 'blaze': 211, 'earthquak': 212, 'everyon': 213, 'girl': 214, 'charg': 215, 'as': 216, 'content': 217, 'everi': 218, 'offici': 219, 'terrorist': 220, 'oil': 221, 'check': 222, 'cross': 223, 'well': 224, 'that': 225, 'offic': 226, 'gon': 227, 'trap': 228, 'found': 229, 'sound': 230, 'w': 231, 'sinc': 232, 'food': 233, 'sign': 234, 'militari': 235, 'summer': 236, 'market': 237, 'debri': 238, 'weather': 239, 'movi': 240, 'pick': 241, 'keep': 242, 'put': 243, 'land': 244, 'migrant': 245, 'structur': 246, 'heat': 247, 'week': 248, 'without': 249, 'alway': 250, 'next': 251, 'guy': 252, 'fight': 253, 'busi': 254, 'declar': 255, '\\x89ûò': 256, 'follow': 257, 'littl': 258, 'fan': 259, 'lightn': 260, 'someon': 261, 'spill': 262, 'malaysia': 263, 'move': 264, 'minut': 265, 'bloodi': 266, 'child': 267, 'bad': 268, 'refuge': 269, 'failur': 270, 'ive': 271, 'bu': 272, 'free': 273, 'eye': 274, 'saudi': 275, 'danger': 276, 'landslid': 277, 'loud': 278, 'thunder': 279, 'inund': 280, 'take': 281, 'red': 282, 'oh': 283, 'babi': 284, 'ruin': 285, 'area': 286, 'around': 287, 'tonight': 288, 'rememb': 289, 'air': 290, 'survivor': 291, 'give': 292, 'power': 293, 'send': 294, 'sink': 295, 'bridg': 296, 'boat': 297, 'affect': 298, 'wait': 299, 'island': 300, 'thought': 301, 'part': 302, 'light': 303, 'panic': 304, 'hurrican': 305, 'there': 306, 'die': 307, 'road': 308, '70': 309, 'person': 310, 'job': 311, 'blood': 312, 'he': 313, 'whole': 314, 'hail': 315, 'mosqu': 316, 'battl': 317, 'open': 318, 'drought': 319, 'hundr': 320, 'order': 321, 'kid': 322, 'past': 323, 'heard': 324, 'destruct': 325, 'apocalyps': 326, 'violent': 327, 'big': 328, 'blast': 329, 'stock': 330, 'close': 331, 'counti': 332, 'explos': 333, 'trauma': 334, 'ambul': 335, 'group': 336, 'second': 337, 'ok': 338, 'river': 339, 'saw': 340, 'effect': 341, 'islam': 342, 'rescuer': 343, 'displac': 344, 'dust': 345, 'shot': 346, 'tell': 347, 'white': 348, 'made': 349, 'outbreak': 350, 'secur': 351, 'bleed': 352, 'tragedi': 353, 'troubl': 354, 'massacr': 355, 'sinkhol': 356, 'due': 357, 'heart': 358, 'drive': 359, 'phone': 360, 'lot': 361, 'total': 362, 'away': 363, 'wreckag': 364, 'lava': 365, 'least': 366, 'talk': 367, '40': 368, 'airplan': 369, 'august': 370, 'calgari': 371, 'sure': 372, 'hear': 373, 'word': 374, 'blew': 375, 'blown': 376, 'traumatis': 377, 'rise': 378, 'cliff': 379, 'china': 380, 'engulf': 381, 'bang': 382, 'panick': 383, 'better': 384, 'possibl': 385, 'hour': 386, 'high': 387, 'real': 388, 'deal': 389, 'intern': 390, 'anniversari': 391, '6': 392, 'curfew': 393, 'mudslid': 394, 'tornado': 395, 'horribl': 396, 'final': 397, 'shoot': 398, 'actual': 399, 'meltdown': 400, 'must': 401, 'case': 402, 'ladi': 403, 'line': 404, 'search': 405, 'memori': 406, 'sandstorm': 407, 'street': 408, 'site': 409, 'someth': 410, 'turn': 411, '15': 412, 'park': 413, 'arson': 414, 'volcano': 415, 'harm': 416, 'cyclon': 417, 'seismic': 418, 'flatten': 419, 'raze': 420, 'swallow': 421, 'twister': 422, 'place': 423, 'three': 424, 'bring': 425, 'govern': 426, 'airport': 427, 'went': 428, 'id': 429, 'long': 430, 'friend': 431, 'song': 432, 'fedex': 433, 'ur': 434, 'pkk': 435, 'ban': 436, 'chemic': 437, 'whirlwind': 438, 'came': 439, 'believ': 440, 'iran': 441, 'project': 442, 'zone': 443, 'link': 444, 'shoulder': 445, 'stay': 446, 'longer': 447, 'mark': 448, 'typhoon': 449, 'eyewit': 450, 'rubbl': 451, 'snowstorm': 452, 'reason': 453, 'want': 454, 'leav': 455, 'didnt': 456, 'ship': 457, 'ebay': 458, 'armageddon': 459, 'tomorrow': 460, 'unit': 461, 'twitter': 462, 'tsunami': 463, 'famin': 464, 'far': 465, 'block': 466, 'stand': 467, 'plane': 468, 'american': 469, 'yet': 470, 'ye': 471, 'turkey': 472, 'insur': 473, 'rainstorm': 474, 'sunk': 475, 'windstorm': 476, 'st': 477, 'support': 478, 'book': 479, 'human': 480, 'star': 481, 'pay': 482, 'half': 483, 'find': 484, 'stretcher': 485, 'ask': 486, 'cool': 487, '\\x89ûó': 488, 'brown': 489, 'done': 490, 'victim': 491, 'hell': 492, 'soon': 493, 'medium': 494, 'avalanch': 495, 'doesnt': 496, 'hold': 497, 'firefight': 498, 'level': 499, 'collis': 500, 'isi': 501, 'pandemonium': 502, '16yr': 503, 'ablaz': 504, 'west': 505, 'mean': 506, 'reunion': 507, 'hate': 508, 'horror': 509, '8': 510, 'learn': 511, 'india': 512, 'health': 513, 'wan': 514, 'noth': 515, 'walk': 516, 'blight': 517, 'demolit': 518, 'prebreak': 519, '20': 520, 'south': 521, 'side': 522, '30': 523, 'left': 524, 'alreadi': 525, 'wake': 526, 'peac': 527, 'rule': 528, 'control': 529, 'caught': 530, 'isra': 531, 'music': 532, 'beauti': 533, 'listen': 534, 'though': 535, 'bush': 536, 'continu': 537, 'upheav': 538, 'expect': 539, 'what': 540, 'wonder': 541, 'fun': 542, 'bar': 543, 'comput': 544, 'low': 545, 'crew': 546, 'villag': 547, 'nearbi': 548, 'abc': 549, 'happi': 550, 'sleep': 551, '9': 552, 'begin': 553, 'ago': 554, 'share': 555, 'claim': 556, 'tweet': 557, '7': 558, 'transport': 559, 'becom': 560, 'north': 561, 'america': 562, 'wont': 563, 'israel': 564, 'bc': 565, 'data': 566, 'muslim': 567, 'lab': 568, 'problem': 569, 're\\x89û': 570, 'polici': 571, 'hailstorm': 572, 'hellfir': 573, 'mayhem': 574, 'insid': 575, 'lead': 576, 'countri': 577, 'histori': 578, 'hors': 579, 'major': 580, 'hand': 581, 'lie': 582, 'yeah': 583, 'damn': 584, 'team': 585, 'cover': 586, 'pretti': 587, 'rock': 588, 'aug': 589, 'conclus': 590, 'reactor': 591, 'public': 592, 'moment': 593, 'theyr': 594, 'almost': 595, 'omg': 596, 'helicopt': 597, 'reuter': 598, 'nigga': 599, 'gun': 600, 'forc': 601, 'australia': 602, 'mp': 603, 'knock': 604, 'soudelor': 605, 'tree': 606, 'emmerdal': 607, 'saipan': 608, 'flag': 609, 'month': 610, 'traffic': 611, 'mom': 612, 'aftershock': 613, 'anyon': 614, 'might': 615, 'crazi': 616, 'everyth': 617, 'mayb': 618, 'isnt': 619, 'tv': 620, 'date': 621, 'anyth': 622, 'interest': 623, 'action': 624, 'money': 625, 'probabl': 626, 'spot': 627, 'giant': 628, 'bigger': 629, '60': 630, 'trench': 631, 'win': 632, 'member': 633, '12': 634, 'christian': 635, 'crisi': 636, 'milit': 637, 'act': 638, 'liter': 639, 'piec': 640, 'activ': 641, 'morn': 642, 'outsid': 643, 'grow': 644, 'huge': 645, 'vehicl': 646, 'ball': 647, 'seen': 648, '10': 649, 'pray': 650, 'gener': 651, 'special': 652, 'gem': 653, 'wow': 654, 'handbag': 655, 'coach': 656, 'cours': 657, 'typhoondevast': 658, 'bestnaijamad': 659, 'thousand': 660, 'r': 661, 'nowplay': 662, 'center': 663, 'sorri': 664, 'pile': 665, 'salt': 666, 'hey': 667, 'film': 668, 'b': 669, 'track': 670, 'town': 671, 'offens': 672, 'fukushima': 673, 'carri': 674, 'seek': 675, 'blizzard': 676, 'appear': 677, 'room': 678, 'bbc': 679, '13': 680, 'cri': 681, 'secret': 682, 'properti': 683, 'target': 684, 'coupl': 685, 'meet': 686, 'point': 687, 'prepar': 688, 'truth': 689, 'amid': 690, 'captur': 691, 'drink': 692, 'green': 693, 'favorit': 694, 'taken': 695, 'hollywood': 696, 'result': 697, 'fashion': 698, 'drake': 699, 'drop': 700, 'camp': 701, 'ignit': 702, 'flight': 703, 'nw': 704, 'manslaught': 705, 'lost': 706, 'fast': 707, 'season': 708, 'arsonist': 709, 'expert': 710, 'aircraft': 711, 'pakistan': 712, 'fact': 713, 'allow': 714, 'gt': 715, '100': 716, 'shift': 717, 'king': 718, 'ad': 719, 'anthrax': 720, 'idea': 721, 'brother': 722, 'social': 723, 'absolut': 724, 'quiz': 725, 'passeng': 726, 'led': 727, 'climat': 728, 'els': 729, 'comment': 730, 'number': 731, 'entir': 732, 'complet': 733, 'self': 734, 'mountain': 735, 'beat': 736, 'leather': 737, 'million': 738, 'respons': 739, 'cut': 740, 'deliv': 741, 'mad': 742, 'cake': 743, 'record': 744, 'russian': 745, 'thursday': 746, '70th': 747, 'emot': 748, 'miner': 749, 'virgin': 750, 'flash': 751, 'spring': 752, 'across': 753, 'lord': 754, 'other': 755, 'travel': 756, 'pain': 757, 'avoid': 758, 'cop': 759, 'worri': 760, 'safeti': 761, 'join': 762, 'radio': 763, 'class': 764, 'mop': 765, 'hire': 766, 'texa': 767, 'mount': 768, 'mishap': 769, 'nearli': 770, 'agre': 771, 'wed': 772, 'onlin': 773, 'aint': 774, 'strike': 775, 'return': 776, 'shape': 777, 'press': 778, 'account': 779, 'manag': 780, 'exchang': 781, 'cnn': 782, '11yearold': 783, 'ancient': 784, 'refugio': 785, 'costlier': 786, 'galact': 787, 'heavi': 788, 'haha': 789, 'arriv': 790, 'hard': 791, 'front': 792, 'rd': 793, 'involv': 794, 'scene': 795, 'wrong': 796, 'she': 797, '11': 798, 'trust': 799, 'soul': 800, 'escap': 801, 'hero': 802, 'okay': 803, 'civilian': 804, 'templ': 805, 'worst': 806, 'creat': 807, 'space': 808, 'anim': 809, '50': 810, 'germ': 811, 'test': 812, 'told': 813, 'larg': 814, 'super': 815, 'meek': 816, 'chanc': 817, 'compani': 818, 'funtenna': 819, 'unconfirm': 820, 'neighbour': 821, 'direct': 822, 'daili': 823, 'four': 824, 'driver': 825, 'mention': 826, 'question': 827, 'earth': 828, 'east': 829, 'arrest': 830, 'remov': 831, 'beach': 832, 'true': 833, 'youth': 834, 'view': 835, 'commun': 836, 'occur': 837, 'event': 838, 'pictur': 839, 'enough': 840, 'dude': 841, 'text': 842, 'buy': 843, 'art': 844, 'wall': 845, 'guid': 846, 'mph': 847, 'ppl': 848, 'seem': 849, 'sad': 850, 'strong': 851, 'alarm': 852, 'apollo': 853, 'nurs': 854, 'disea': 855, 'myanmar': 856, 'sky': 857, 'alon': 858, 'student': 859, 'risk': 860, 'wish': 861, 'p': 862, 'guess': 863, 'global': 864, 'behind': 865, 'end': 866, 'toddler': 867, 'yesterday': 868, 'blue': 869, 'young': 870, 'research': 871, 'bitch': 872, '25': 873, 'washington': 874, 'libya': 875, 'differ': 876, 'rate': 877, 'nigerian': 878, 'inform': 879, 'cree': 880, 'subreddit': 881, 'eat': 882, 'awesom': 883, 'singl': 884, 'mile': 885, 'pull': 886, 'wasnt': 887, 'usa': 888, 'potu': 889, 'poor': 890, '05': 891, 'scare': 892, 'theater': 893, 'answer': 894, 'parti': 895, 'bless': 896, 'mind': 897, 'centr': 898, 'nagasaki': 899, 'ash': 900, 'threaten': 901, 'gbbo': 902, 'parent': 903, 'angri': 904, 'york': 905, 'lamp': 906, '19': 907, 'upon': 908, 'owner': 909, 'danc': 910, 'wednesday': 911, 'earli': 912, 'hospit': 913, 'readi': 914, 'match': 915, 'current': 916, 'dad': 917, 'enjoy': 918, 'depart': 919, 'extrem': 920, 'struggl': 921, 'palestinian': 922, 'pamela': 923, 'ebola': 924, 'threat': 925, 'throw': 926, 'charact': 927, 'biggest': 928, 'player': 929, 'tote': 930, 'limit': 931, 'outrag': 932, 'ross': 933, 'download': 934, 'patienc': 935, 'former': 936, 'madhya': 937, 'pradesh': 938, 'cost': 939, 'offroad': 940, 'rli': 941, 'chile': 942, 'aba': 943, 'wife': 944, 'michael': 945, 'doubl': 946, 'dream': 947, 'lose': 948, 'franc': 949, 'bit': 950, 'episod': 951, 'short': 952, 'v': 953, 'diseas': 954, 'took': 955, 'imagin': 956, 'govt': 957, 'vote': 958, 'court': 959, 'udhampur': 960, 'gave': 961, 'gop': 962, 'geller': 963, 'album': 964, 'playlist': 965, 'ahead': 966, 'write': 967, 'foot': 968, 'small': 969, 'ground': 970, 'central': 971, 'downtown': 972, 'x': 973, 'instead': 974, 'plant': 975, 'either': 976, 'uk': 977, 'cabl': 978, 'brooklyn': 979, 'abandon': 980, 'bayelsa': 981, 'lake': 982, 'colorado': 983, 'london': 984, 'ave': 985, 'angel': 986, 'pakistani': 987, 'career': 988, '2014': 989, 'bed': 990, 'seri': 991, 'sport': 992, 'japanes': 993, 'nice': 994, 'wire': 995, 'cold': 996, 'sun': 997, 'step': 998, 'univers': 999, 'arent': 1000, 'colour': 1001, 'crane': 1002, 'etc': 1003, 'remain': 1004, 'understand': 1005, 'safe': 1006, 'denver': 1007, 'suffer': 1008, 'repair': 1009, 'british': 1010, 'don\\x89ûªt': 1011, 'catch': 1012, 'disney': 1013, 'local': 1014, 'marian': 1015, '12000': 1016, 'parol': 1017, 'recount': 1018, 'aliv': 1019, 'later': 1020, 'sunday': 1021, '16': 1022, 'kick': 1023, 'includ': 1024, 'mode': 1025, 'polit': 1026, 'review': 1027, 'tonto': 1028, 'care': 1029, 'remind': 1030, 'havent': 1031, 'russia': 1032, 'funni': 1033, 'notic': 1034, 'gay': 1035, 'lmao': 1036, 'internet': 1037, 'program': 1038, 'futur': 1039, 'broken': 1040, 'experi': 1041, 'glass': 1042, 'brain': 1043, 'info': 1044, 'matter': 1045, 'articl': 1046, 'metro': 1047, 'estim': 1048, 'gone': 1049, 'broke': 1050, 'arm': 1051, 'soldier': 1052, 'fit': 1053, 'middl': 1054, 'board': 1055, 'wors': 1056, 'blow': 1057, 'spark': 1058, 'sex': 1059, 'fix': 1060, 'mix': 1061, 'imag': 1062, 'electr': 1063, 'capsiz': 1064, 'feed': 1065, 'enugu': 1066, 'map': 1067, 'cdt': 1068, 'apc': 1069, 'jonathan': 1070, 'alabama': 1071, 'cameroon': 1072, 'metal': 1073, 'lane': 1074, 'teen': 1075, 'delay': 1076, 'sometim': 1077, 'can': 1078, 'rip': 1079, 'sister': 1080, 'welcom': 1081, 'drunk': 1082, 'stage': 1083, 'late': 1084, 'indian': 1085, 'author': 1086, 'fail': 1087, 'blame': 1088, 'provid': 1089, 'prevent': 1090, 'origin': 1091, 'hair': 1092, 'weekend': 1093, 'youll': 1094, 'silver': 1095, 'tear': 1096, 'hurt': 1097, 'smh': 1098, 'relat': 1099, 'friday': 1100, 'togeth': 1101, 'impact': 1102, 'co': 1103, 'forev': 1104, 'pa': 1105, 'trent': 1106, 'desir': 1107, 'freak': 1108, 'reduc': 1109, 'oper': 1110, 'wast': 1111, 'felt': 1112, 'taiwan': 1113, 'kit': 1114, 'sick': 1115, 'roosevelt': 1116, 'provok': 1117, 'governor': 1118, '\\x89ûïwhen': 1119, 'plung': 1120, 'canada': 1121, '18': 1122, 'chicago': 1123, '2013': 1124, 'among': 1125, 'financi': 1126, 'leader': 1127, 'price': 1128, 'protect': 1129, 'common': 1130, 'juli': 1131, 'wtf': 1132, 'seriou': 1133, 'medic': 1134, '17': 1135, 'apart': 1136, 'base': 1137, 'window': 1138, 'stab': 1139, 'treat': 1140, 'steal': 1141, 'illeg': 1142, 'loui': 1143, 'concern': 1144, 'region': 1145, 'list': 1146, 'pool': 1147, 'rn': 1148, 'ear': 1149, 'bank': 1150, 'amazon': 1151, 'standard': 1152, 'killer': 1153, 'glad': 1154, 'faux': 1155, 'purs': 1156, 'along': 1157, '0': 1158, 'gunman': 1159, 'coast': 1160, 'amaz': 1161, 'yr': 1162, 'recent': 1163, 'cancer': 1164, 'ocean': 1165, 'predict': 1166, 'ga': 1167, 'consid': 1168, 'sing': 1169, 'smaug': 1170, 'messag': 1171, 'sensorsenso': 1172, 'utc20150805': 1173, 'oklahoma': 1174, 'crematorium': 1175, 'massiv': 1176, 'stadium': 1177, 'repatri': 1178, 'visit': 1179, 'gain': 1180, 'usual': 1181, 'exit': 1182, 'gtgt': 1183, 'not': 1184, 'drone': 1185, 'twelv': 1186, 'lucki': 1187, 'feat': 1188, 'syrian': 1189, 'pre': 1190, 'fals': 1191, 'fuel': 1192, '24': 1193, 'queen': 1194, 'box': 1195, 'sens': 1196, 'mine': 1197, 'ap': 1198, 'crime': 1199, 'bay': 1200, 'ice': 1201, 'trump': 1202, 'design': 1203, 'worth': 1204, 'lift': 1205, '2nd': 1206, 'pathogen': 1207, 'potenti': 1208, 'foxnew': 1209, 'f': 1210, 'gm': 1211, 'technolog': 1212, 'joe': 1213, 'brought': 1214, '1st': 1215, 'one': 1216, 'deep': 1217, 'tire': 1218, 'fli': 1219, 'pack': 1220, 'footbal': 1221, 'size': 1222, 'five': 1223, 'western': 1224, 'grill': 1225, 'age': 1226, 'appli': 1227, 'ticket': 1228, 'evil': 1229, 'popul': 1230, 'recal': 1231, 'excit': 1232, 'interview': 1233, 'tent': 1234, 'approach': 1235, 'type': 1236, 'earlier': 1237, 'airlin': 1238, 'wash': 1239, 'worker': 1240, 'invoic': 1241, 'selfimag': 1242, 'chief': 1243, 'browser': 1244, 'usg': 1245, '600': 1246, 'yyc': 1247, 'explor': 1248, '1980': 1249, 'spaceship': 1250, 'resid': 1251, 'hill': 1252, 'nyc': 1253, 'wear': 1254, 'rout': 1255, 'edm': 1256, 'effort': 1257, 'examin': 1258, 'french': 1259, 'pilot': 1260, 'wing': 1261, 'bro': 1262, 'john': 1263, 'pass': 1264, 'law': 1265, 'le': 1266, 'scienc': 1267, 'dark': 1268, 'econom': 1269, 'finger': 1270, 'wwii': 1271, 'navi': 1272, 'protest': 1273, 'hunt': 1274, 'system': 1275, 'forget': 1276, 'feminist': 1277, 'spo': 1278, 'fat': 1279, 'respect': 1280, 'loss': 1281, 'fine': 1282, 'roll': 1283, 'tho': 1284, 'associ': 1285, 'ta': 1286, 'suppos': 1287, 'sit': 1288, 'rather': 1289, 'hasnt': 1290, 'republican': 1291, 'tablet': 1292, 'bell': 1293, 'main': 1294, 'turkish': 1295, 'rocki': 1296, 'wit': 1297, 'express': 1298, 'reach': 1299, 'industri': 1300, 'seattl': 1301, 'presid': 1302, 'gold': 1303, 'fish': 1304, 'spend': 1305, '1000': 1306, 'ft': 1307, 'quot': 1308, 'wrought': 1309, 'lack': 1310, 'combo': 1311, 'held': 1312, 'radiat': 1313, 'brake': 1314, 'richmond': 1315, 'sent': 1316, 'quit': 1317, 'dr': 1318, 'nc': 1319, 'speak': 1320, 'stream': 1321, 'terribl': 1322, 'incid': 1323, 'choic': 1324, '14': 1325, 'petit': 1326, 'promis': 1327, 'weve': 1328, 'paul': 1329, 'voic': 1330, 'version': 1331, 'minecraft': 1332, '911': 1333, 'bear': 1334, 'tax': 1335, 'direction': 1336, 'dog': 1337, 'rea\\x89û': 1338, 'abus': 1339, 'dc': 1340, 'realiz': 1341, 'usatoday': 1342, 'sir': 1343, 'facebook': 1344, 'cute': 1345, 'max': 1346, 'app': 1347, 'shock': 1348, 'cook': 1349, 'floor': 1350, 'stress': 1351, 'serious': 1352, 'enter': 1353, 'straight': 1354, 'heal': 1355, 'coffe': 1356, 'enemi': 1357, 'accord': 1358, 'dive': 1359, 'laugh': 1360, 'anymor': 1361, 'erupt': 1362, 'replac': 1363, 'pop': 1364, 'toward': 1365, 'san': 1366, 'shut': 1367, 'tropic': 1368, 'senat': 1369, 'dozen': 1370, 'relief': 1371, 'antioch': 1372, 'mediterranean': 1373, 'philippin': 1374, 'genocid': 1375, 'time20150806': 1376, 'hawaii': 1377, 'municip': 1378, 'prompt': 1379, 'budget': 1380, 'wouldnt': 1381, 'sh': 1382, 'pdp': 1383, 'canaanit': 1384, 'perfect': 1385, 'knew': 1386, 'detail': 1387, 'david': 1388, 'ride': 1389, 'surpris': 1390, 'basebal': 1391, 'birthday': 1392, 'kinda': 1393, 'collect': 1394, 'squad': 1395, 'produc': 1396, 'defend': 1397, 'tank': 1398, 'googl': 1399, 'daughter': 1400, 'rage': 1401, 'beyond': 1402, 'tune': 1403, 'everywher': 1404, 'load': 1405, 'holi': 1406, 'document': 1407, 'hobo': 1408, 'legaci': 1409, 'africa': 1410, 'recov': 1411, 'bill': 1412, 'england': 1413, 'stuff': 1414, 'regist': 1415, 'multipl': 1416, 'tip': 1417, 'shower': 1418, 'materi': 1419, 'yall': 1420, 'goal': 1421, 'parenthood': 1422, 'cancel': 1423, 'commit': 1424, 'mother': 1425, 'hilari': 1426, 'clear': 1427, 'southern': 1428, 'kidnap': 1429, 'slip': 1430, 'dri': 1431, 'realiti': 1432, 'selfi': 1433, '26': 1434, 'vine': 1435, 'decid': 1436, 'unlock': 1437, 'offer': 1438, 'rail': 1439, 'increas': 1440, 'th': 1441, 'import': 1442, 'italian': 1443, 'hobbit': 1444, 'sismo': 1445, 'abstorm': 1446, 'quick': 1447, 'portland': 1448, 'screen': 1449, '1945': 1450, 'smell': 1451, 'edt': 1452, 'tension': 1453, 'c130': 1454, 'modifi': 1455, 'weird': 1456, 'kiss': 1457, 'progress': 1458, 'steve': 1459, '31': 1460, 'abl': 1461, 'youv': 1462, 'motorcyclist': 1463, 'option': 1464, 'deadli': 1465, 'shell': 1466, 'festiv': 1467, 'shall': 1468, 'here': 1469, 'zombi': 1470, 'bought': 1471, 'reveal': 1472, 'shadow': 1473, 'host': 1474, 'mtvhottest': 1475, 'admit': 1476, 'minor': 1477, 'accus': 1478, 'gaza': 1479, 'fulli': 1480, 'perform': 1481, 'incred': 1482, 'bat': 1483, 'fleet': 1484, 'drill': 1485, 'fantasi': 1486, 'pl': 1487, 'rare': 1488, 'appar': 1489, 'lock': 1490, 'print': 1491, 'present': 1492, 'shoe': 1493, 'somebodi': 1494, 'email': 1495, 'hello': 1496, 'woke': 1497, 'mini': 1498, '22': 1499, 'guardian': 1500, 'flat': 1501, 'dramat': 1502, 'bathroom': 1503, 'toll': 1504, '06': 1505, 'fox': 1506, 'situat': 1507, 'store': 1508, 'chees': 1509, 'touch': 1510, 'cloth': 1511, 'contain': 1512, 'confer': 1513, 'attempt': 1514, 'ran': 1515, 'swim': 1516, 'ten': 1517, 'ceo': 1518, 'alert': 1519, 'lil': 1520, 'strategi': 1521, 'bicyclist': 1522, 'condit': 1523, 'phoenix': 1524, 'it\\x89ûª': 1525, 'adult': 1526, 'arianagrand': 1527, 'dear': 1528, 'minist': 1529, 'percent': 1530, 'malaysian': 1531, 'intens': 1532, 'mess': 1533, 'struck': 1534, 'tube': 1535, 'loos': 1536, 'loop': 1537, 'sensor': 1538, 'ukrain': 1539, 'idp': 1540, 'cloud': 1541, '5km': 1542, 'veteran': 1543, 'advisori': 1544, 'saturday': 1545, '4wd': 1546, 'outlook': 1547, 'yazidi': 1548, 'channel': 1549, 'mediterran': 1550, 'fruit': 1551, 'church': 1552, 'mac': 1553, 'edit': 1554, 'father': 1555, 'click': 1556, 'onto': 1557, 'manchest': 1558, 'ir': 1559, 'dubstep': 1560, 'dnb': 1561, 'laden': 1562, 'chariti': 1563, 'assist': 1564, 'practic': 1565, 'educ': 1566, 'quickli': 1567, 'forecast': 1568, 'thu': 1569, 'snow': 1570, 'spirit': 1571, 'blog': 1572, 'httptcoq2eblokev': 1573, 'httptcoencmhz6y34': 1574, 'round': 1575, 'lion': 1576, 'rubber': 1577, 'jackson': 1578, 'mourn': 1579, 'face': 1580, 'mental': 1581, 'bet': 1582, 'war': 1583, 'attent': 1584, 'certain': 1585, 'blk': 1586, 'exist': 1587, 'irand': 1588, 'page': 1589, 'bath': 1590, 'dollar': 1591, 'bowl': 1592, 'hi': 1593, 'bruh': 1594, 'kindl': 1595, 'donat': 1596, 'aw': 1597, 'mari': 1598, 'shop': 1599, 'read\\x89û': 1600, 'shouldnt': 1601, 'definit': 1602, 'di': 1603, 'concert': 1604, 'smile': 1605, '90': 1606, 'aussi': 1607, 'upset': 1608, 'execut': 1609, 'greatest': 1610, 'challeng': 1611, 'afternoon': 1612, 'equip': 1613, 'seven': 1614, 'moon': 1615, 'twice': 1616, '500': 1617, 'except': 1618, 'bore': 1619, 'aid': 1620, 'teacher': 1621, 'field': 1622, 'temper': 1623, 'md': 1624, 'trip': 1625, 'correct': 1626, 'highway': 1627, 'trfc': 1628, '4000': 1629, 'honestli': 1630, 'mhtw4fnet': 1631, 'model': 1632, 'name': 1633, 'debat': 1634, 'mikeparractor': 1635, 'plagu': 1636, 'ferguson': 1637, 'recogn': 1638, 'destini': 1639, 'wmata': 1640, 'honor': 1641, 'twin': 1642, 'digit': 1643, 'crackdown': 1644, 'stuart': 1645, 'realis': 1646, 'i\\x89ûªm': 1647, 'nepal': 1648, 'couldnt': 1649, 'charger': 1650, 'fund': 1651, 'troop': 1652, 'access': 1653, 'crimin': 1654, 'ridg': 1655, 'reflect': 1656, 'hwo': 1657, 'linkuri': 1658, 'disco': 1659, 'rome': 1660, 'china\\x89ûª': 1661, 'citizen': 1662, 'quran': 1663, 'allah': 1664, 'receiv': 1665, 'florida': 1666, 'built': 1667, 'cruz': 1668, 'fill': 1669, 'energi': 1670, 'treatment': 1671, '320': 1672, 'icemoon': 1673, 'djicemoon': 1674, 'trapmus': 1675, 'ices\\x89û': 1676, 'gov': 1677, 'engin': 1678, '29': 1679, 'began': 1680, 'ny': 1681, 'worldnew': 1682, 'met': 1683, 'easi': 1684, 'gang': 1685, 'punish': 1686, 'prophet': 1687, 'jeb': 1688, '2011': 1689, 'unless': 1690, 'putin': 1691, 'sadli': 1692, 'impress': 1693, 'beyhiv': 1694, 'attend': 1695, 'organ': 1696, 'add': 1697, 'fake': 1698, 'stir': 1699, 'crack': 1700, 'alleg': 1701, 'user': 1702, 'machin': 1703, 'simul': 1704, 'lt': 1705, 'inner': 1706, '4x4': 1707, 'trailer': 1708, 'paint': 1709, 'o784': 1710, 'electron': 1711, 'handl': 1712, 'auth': 1713, 'prepared': 1714, 'suck': 1715, 'describ': 1716, 'dutch': 1717, 'featur': 1718, 'leak': 1719, 'roof': 1720, 'degre': 1721, 'magic': 1722, 'economi': 1723, 'societi': 1724, 'loan': 1725, 'shame': 1726, 'cream': 1727, 'announc': 1728, 'bout': 1729, 'pressur': 1730, 'product': 1731, 'steel': 1732, 'anyway': 1733, 'seat': 1734, 'pipe': 1735, 'mill': 1736, 'leg': 1737, 'within': 1738, 'afghanistan': 1739, 'specif': 1740, 'australian': 1741, 'acr': 1742, 'crap': 1743, 'complex': 1744, 'fool': 1745, 'bug': 1746, 'idk': 1747, 'tech': 1748, 'iraq': 1749, 'warship': 1750, 'satellit': 1751, 'debt': 1752, 'audio': 1753, 'snap': 1754, 'tongu': 1755, 'breath': 1756, 'fav': 1757, 'simpl': 1758, 'none': 1759, 'broadway': 1760, 'blvd': 1761, '33': 1762, 'judg': 1763, 'photographi': 1764, 'calm': 1765, 'given': 1766, 'gust': 1767, 'advanc': 1768, 'especi': 1769, 'rest': 1770, 'studi': 1771, 'summerf': 1772, 'focu': 1773, 'lunch': 1774, 'arabia': 1775, 'disappear': 1776, 'discov': 1777, 'wa': 1778, 'root': 1779, 'folk': 1780, 'wheavenli': 1781, 'sw': 1782, 'ignor': 1783, 'disrupt': 1784, 'soundcloud': 1785, 'broad': 1786, 'jam': 1787, 'jeff': 1788, 'surround': 1789, 'autist': 1790, 'plug': 1791, 'httptcoqew4c5m1xd': 1792, 'serv': 1793, 'canyon': 1794, 'tribal': 1795, 'epicentr': 1796, 'tram': 1797, 'refus': 1798, 'kombat': 1799, 'fog': 1800, 'clash': 1801, 'okwx': 1802, 'vulner': 1803, 'sinjar': 1804, 'alp': 1805, 'decis': 1806, 'sidelin': 1807, 'meatlov': 1808, 'somalia': 1809, 'shelter': 1810, 'alaska': 1811, 'hwi': 1812, 'plu': 1813, 'sunset': 1814, 'scari': 1815, 'runway': 1816, 'bo': 1817, 'frontlin': 1818, 'viralspel': 1819, 'spent': 1820, 'hunter': 1821, 'hashtag': 1822, 'form': 1823, 'exactli': 1824, 'civil': 1825, 'thx': 1826, 'bob': 1827, 'lone': 1828, 'inde': 1829, 'poster': 1830, 'tast': 1831, 'librari': 1832, 'g': 1833, 'chicagoarea': 1834, 'scheme': 1835, 'trial': 1836, 'plot': 1837, 'serial': 1838, 'itali': 1839, 'mumbai': 1840, 'theatr': 1841, 'rape': 1842, 'defens': 1843, 'sweet': 1844, 'band': 1845, 'extern': 1846, 'warcraft': 1847, 'german': 1848, 'tcot': 1849, 'sanction': 1850, 'garden': 1851, 'breakingnew': 1852, 'aka': 1853, 'prosecut': 1854, 'fort': 1855, 'custom': 1856, 'shout': 1857, 'race': 1858, 'recommend': 1859, 'height': 1860, 'develop': 1861, 'swear': 1862, 'card': 1863, 'ah': 1864, 'jesu': 1865, 'shed': 1866, 'club': 1867, 'vuitton': 1868, '35': 1869, 'style': 1870, 'tea': 1871, 'leagu': 1872, 'patient': 1873, 'kept': 1874, 'pic': 1875, 'posit': 1876, 'screenshot': 1877, 'syria': 1878, 'jet': 1879, 'epic': 1880, 'largest': 1881, 'prison': 1882, 'figur': 1883, 'counter': 1884, 'stone': 1885, 'individu': 1886, 'stupid': 1887, 'brutal': 1888, 'photograph': 1889, 'robot': 1890, 'commerci': 1891, 'whale': 1892, 'critic': 1893, 'marin': 1894, 'septemb': 1895, 'nuke': 1896, 'bottom': 1897, 'bee': 1898, 'lower': 1899, 'knee': 1900, 'hugh': 1901, 'justinbieb': 1902, 'inj': 1903, 'anti': 1904, 'rear': 1905, 'sourc': 1906, 'tool': 1907, 'microlight': 1908, 'note': 1909, 'aim': 1910, 'station': 1911, 'nd': 1912, 'val': 1913, 'ring': 1914, 'rì©union': 1915, 'rel': 1916, 'dress': 1917, 'histor': 1918, 'heaven': 1919, 'neg': 1920, 'zionist': 1921, 'elect': 1922, 'mr': 1923, 'tubestrik': 1924, 'campaign': 1925, 'reopen': 1926, 'path': 1927, 'server': 1928, 'cinema': 1929, 'township': 1930, 'anchorag': 1931, 'stick': 1932, 'suppli': 1933, 'chao': 1934, 'faan': 1935, 'duck': 1936, 'by\\x89û': 1937, 'slow': 1938, 'kind': 1939, 'statement': 1940, 'opposit': 1941, '53inch': 1942, '300w': 1943, 'curv': 1944, 'unveil': 1945, 'boston': 1946, 'trigger': 1947, 'battlefield': 1948, 'southampton': 1949, 'newest': 1950, 'pipelin': 1951, 'nigeria': 1952, 'gabon': 1953, '3g': 1954, 'rais': 1955, 'gunfir': 1956, 'be\\x89û': 1957, 'mayan': 1958, 'cramer': 1959, 'forgiv': 1960, 'wood': 1961, 'afraid': 1962, 'jail': 1963, 'dvd': 1964, 'torch': 1965, 'cuz': 1966, 'awar': 1967, 'min': 1968, 'alberta': 1969, 'victori': 1970, 'bargain': 1971, 'thoma': 1972, 'iron': 1973, 'mexico': 1974, 'automat': 1975, 'devic': 1976, 'rob': 1977, 'explain': 1978, 'legion': 1979, 'who': 1980, 'reject': 1981, 'tie': 1982, 'wither': 1983, 'xbox': 1984, 'luck': 1985, 'avert': 1986, 'christma': 1987, '\\x89û÷polit': 1988, 'grief\\x89ûª': 1989, 'mo': 1990, 'dick': 1991, 'restaur': 1992, 'salem': 1993, 'lmfao': 1994, 'newyork': 1995, 'credit': 1996, 'tbt': 1997, 'nashvil': 1998, 'diamond': 1999, 'homeless': 2000, 'evid': 2001, 'femal': 2002, 'somehow': 2003, 'greec': 2004, 'chill': 2005, 'earn': 2006, 'rose': 2007, 'leaf': 2008, 'purchas': 2009, 'letter': 2010, 'cast': 2011, 'hole': 2012, 'item': 2013, 'celebr': 2014, 'select': 2015, 'journal': 2016, 'launch': 2017, 'usagov': 2018, 'viru': 2019, 'extra': 2020, 'tour': 2021, 'lt3': 2022, 'calori': 2023, 'bullet': 2024, 'threw': 2025, 'nose': 2026, 'fell': 2027, 'cup': 2028, 'retweet': 2029, 'skin': 2030, 'jack': 2031, 'clutch': 2032, 'jean': 2033, 'pocket': 2034, '5so': 2035, 'innoc': 2036, 'everyday': 2037, 'floyd': 2038, 'william': 2039, 'valu': 2040, 'ankl': 2041, 'toilet': 2042, 'grab': 2043, 'bottl': 2044, 'messeng': 2045, 'monogram': 2046, 'satchel': 2047, 'camera': 2048, 'tough': 2049, 'file': 2050, 'snack': 2051, 'chain': 2052, 'congress': 2053, 'mission': 2054, 'clinton': 2055, 'cricket': 2056, 'deserv': 2057, 'basic': 2058, 'mainten': 2059, 'instal': 2060, 'residenti': 2061, 'youd': 2062, 'integr': 2063, 'experienc': 2064, 'descript': 2065, 'port': 2066, 'winter': 2067, 'wet': 2068, 'alli': 2069, 'wrap': 2070, 'iranian': 2071, 'toronto': 2072, 'pacif': 2073, 'tag': 2074, 'nytim': 2075, 'ultim': 2076, 'prime': 2077, 'regular': 2078, '48': 2079, 'finish': 2080, 'uniform': 2081, 'theyll': 2082, 'burst': 2083, 'ep': 2084, 'cigarett': 2085, 'cyclist': 2086, 'valley': 2087, 'doctor': 2088, 'stuck': 2089, 'brief': 2090, 'prefer': 2091, 'blind': 2092, 'address': 2093, 'maximum': 2094, 'union': 2095, 'gta': 2096, 'drum': 2097, 'key': 2098, 'np': 2099, 'pussi': 2100, 'anger': 2101, 'slide': 2102, 'atmospher': 2103, 'float': 2104, 'opinion': 2105, 'sat': 2106, 'kaduna': 2107, 'smithsonian': 2108, '21': 2109, 'recoveri': 2110, 'subject': 2111, 'assembl': 2112, 'mt': 2113, 'daniel': 2114, 'tryna': 2115, 'equal': 2116, 'strategicpati': 2117, 'spread': 2118, 'combat': 2119, 'utc': 2120, 'httptcocybksxhf7d': 2121, 'apocalypt': 2122, 'batteri': 2123, 'fair': 2124, 'penalti': 2125, 'gear': 2126, 'vet': 2127, 'parley': 2128, 'golf': 2129, 'powerlin': 2130, 'patch': 2131, 'writer': 2132, 'elev': 2133, 'deni': 2134, 'dk': 2135, 'poll': 2136, 'exampl': 2137, 'eastern': 2138, 'mortal': 2139, 'drove': 2140, 'harri': 2141, 'wx': 2142, 'beam': 2143, 'coastal': 2144, 'itun': 2145, 'lowli': 2146, 'profil': 2147, 'olap': 2148, 'egypt': 2149, 'director': 2150, 'employe': 2151, 'finnish': 2152, 'plain': 2153, 'animalrescu': 2154, 'buri': 2155, 'speaker': 2156, '3d': 2157, 'pond': 2158, 'you\\x89ûªv': 2159, 'towel': 2160, 'httptcoksawlyux02': 2161, 'drawn': 2162, 'picken': 2163, 'iger': 2164, '80': 2165, 'wholesal': 2166, 'deputi': 2167, 'section': 2168, 'gift': 2169, 'speed': 2170, 'motor': 2171, 'piss': 2172, 'motorcycl': 2173, 'rider': 2174, 'mma': 2175, 'altern': 2176, 'forward': 2177, 'nobodi': 2178, 'terrifi': 2179, 'georg': 2180, 'slayer': 2181, 'odd': 2182, 'mlb': 2183, 'insan': 2184, 'brazil': 2185, 'can\\x89ûªt': 2186, 'lorri': 2187, 'pit': 2188, 'nine': 2189, 'em': 2190, 'nh': 2191, 'becam': 2192, 'arabian': 2193, 'titan': 2194, 'entertain': 2195, 'auction': 2196, 'let\\x89ûª': 2197, 'ww1': 2198, 'robert': 2199, 'staff': 2200, 'eh': 2201, 'slightli': 2202, 'ugli': 2203, 'solv': 2204, 'lgbt': 2205, 'tennesse': 2206, 'calif': 2207, 'legal': 2208, 'popular': 2209, 'headlin': 2210, 'melt': 2211, 'acid': 2212, 'raid': 2213, 'senior': 2214, 'yay': 2215, 'exercis': 2216, 'appreci': 2217, 'upper': 2218, 'musician': 2219, 'classic': 2220, 'hampshir': 2221, 'wht': 2222, 'wealth': 2223, 'mysteri': 2224, 'therapi': 2225, 'sexual': 2226, 'jay': 2227, 'hack': 2228, 'ugh': 2229, 'bedroom': 2230, 'm': 2231, 'silenc': 2232, 'color': 2233, 'dinner': 2234, 'violenc': 2235, 'artist': 2236, 'encourag': 2237, 'conserv': 2238, 'vacant': 2239, 'gate': 2240, 'pc': 2241, 'paper': 2242, 'fuckin': 2243, 'websit': 2244, 'choke': 2245, 'bb17': 2246, 'oak': 2247, 'vintag': 2248, 'bid': 2249, 'hop': 2250, 'mail': 2251, '2008': 2252, 'taco': 2253, 'oop': 2254, 'playoff': 2255, 'abomb': 2256, 'third': 2257, 'germani': 2258, 'tradit': 2259, 'relationship': 2260, 'distanc': 2261, 'gadget': 2262, 'construct': 2263, 'upgrad': 2264, 'neighbor': 2265, 'loot': 2266, 'often': 2267, 'uganda': 2268, 'object': 2269, 'weak': 2270, 'grate': 2271, 'crowd': 2272, 'grenad': 2273, 'pace': 2274, 'accident': 2275, 'flip': 2276, 'proud': 2277, 'monster': 2278, 'holiday': 2279, 'warm': 2280, 'asap': 2281, 'afghan': 2282, 'yemen': 2283, 'arsen': 2284, 'bound': 2285, 'joy': 2286, 'duti': 2287, 'iphon': 2288, 'silent': 2289, 'pro': 2290, 'success': 2291, 'vega': 2292, 'term': 2293, 'fortun': 2294, 'bride': 2295, 'jump': 2296, 'row': 2297, 'invest': 2298, 'revenu': 2299, 'bite': 2300, 'bake': 2301, 'chocol': 2302, 'strang': 2303, 'wouldv': 2304, 'i5': 2305, 'lesson': 2306, 'mansehra': 2307, 'tuesday': 2308, 'justin': 2309, 'clearli': 2310, 'gp': 2311, 'agenc': 2312, 'grove': 2313, 'freedom': 2314, 'annual': 2315, 'tom': 2316, 'asia': 2317, 'fate': 2318, 'rohingya': 2319, 'oppress': 2320, 'cave': 2321, 'trend': 2322, 'b4': 2323, 'rep': 2324, 'pregnant': 2325, 'ak': 2326, '370': 2327, 'normal': 2328, 'truli': 2329, 'abbswinston': 2330, 'sell': 2331, 'sm': 2332, 'mood': 2333, 'ex': 2334, 'bare': 2335, 'freakiest': 2336, 'gotten': 2337, 'thriller': 2338, 'hd': 2339, 'multiplay': 2340, 'reportedli': 2341, 'border': 2342, 'standus': 2343, 'waterresist': 2344, 'leisur': 2345, 'tab\\x89û': 2346, 'consequ': 2347, 'abcnew': 2348, 'pitch': 2349, 'caitlin': 2350, 'kiernan': 2351, 'centiped': 2352, 'sicili': 2353, 'extend': 2354, 'asshol': 2355, 'connect': 2356, 'eleph': 2357, 'factori': 2358, 'english': 2359, 'cope': 2360, 'ie': 2361, 'madinah': 2362, 'prophetmuhammad': 2363, 'tr': 2364, 'vietnam': 2365, 'explosionproof': 2366, 'protector': 2367, 'blackberri': 2368, 'z10': 2369, 'closur': 2370, 'marri': 2371, 'push': 2372, 'zero': 2373, '101': 2374, 'grass': 2375, 'depth': 2376, 'trash': 2377, 'zouma': 2378, '2pc': 2379, '18w': 2380, 'bjp': 2381, 'tape': 2382, 'survey': 2383, 'swansea': 2384, 'copycat': 2385, 'oliv': 2386, 'transfer': 2387, 'america\\x89ûª': 2388, 'croatian': 2389, 'affili': 2390, 'guillermo': 2391, 'injuryi495': 2392, '97georgia': 2393, 'banana': 2394, 'youngheroesid': 2395, 'pantherattack': 2396, 'shark': 2397, 'everybodi': 2398, 'sub': 2399, 'fresh': 2400, 'meal': 2401, 'cofound': 2402, 'huffman': 2403, 'thru': 2404, '360wisenew': 2405, 'unhappi': 2406, 'dumb': 2407, 'lownd': 2408, 'inspect': 2409, 'copilot': 2410, 'haunt': 2411, '1030': 2412, 'amsterdam': 2413, '010401': 2414, '150401': 2415, 'parker': 2416, 'aftermath': 2417, 'twia': 2418, 'tampa': 2419, 'count': 2420, 'ridicul': 2421, 'girlfriend': 2422, 'theyv': 2423, 'doubt': 2424, 'santa': 2425, 'pump': 2426, 'six': 2427, 'ig': 2428, 'rang': 2429, 'sb': 2430, 'determin': 2431, 'mf': 2432, 'basement': 2433, 'conflict': 2434, 'improv': 2435, 'profit': 2436, 'error': 2437, 'exp': 2438, 'urib': 2439, 'statu': 2440, 'charli': 2441, 'showcas': 2442, 'convers': 2443, 'planet': 2444, 'pierc': 2445, 'clean': 2446, 'revolut': 2447, 'microsoft': 2448, 'romanc': 2449, 'justic': 2450, 'prepper': 2451, 'gtgtgt': 2452, 'beyonc': 2453, '5th': 2454, 'richard': 2455, 'lesbian': 2456, 'kisii': 2457, 'where': 2458, 'demand': 2459, 'privat': 2460, 'palestin': 2461, 'harper': 2462, 'maria': 2463, 'condemn': 2464, '2016': 2465, 'anxieti': 2466, 'flew': 2467, 'grand': 2468, '34': 2469, 'rapper': 2470, 'dragon': 2471, 'clip': 2472, 'rap': 2473, 'marvel': 2474, 'jacksonvil': 2475, 'will': 2476, 'appl': 2477, 'agent': 2478, 'facil': 2479, 'iii': 2480, 'nasa': 2481, '90blksamp8wht': 2482, 'collud': 2483, 'hostageamp2': 2484, 'wbioterrorismampus': 2485, 'lglorg': 2486, 'idi': 2487, 'yea': 2488, 'scientist': 2489, '27': 2490, 'poverti': 2491, 'pizza': 2492, 'farm': 2493, 'huh': 2494, 'palm': 2495, 'skill': 2496, 'spanish': 2497, 'suit': 2498, 'physic': 2499, 'throat': 2500, 'written': 2501, 'instagram': 2502, 'solar': 2503, 'tf': 2504, 'ray': 2505, 'beer': 2506, 'excel': 2507, 'butter': 2508, 'disappoint': 2509, 'batter': 2510, 'monitor': 2511, 'royal': 2512, 'abort': 2513, 'stephen': 2514, 'expos': 2515, 'mega': 2516, 'chair': 2517, 'approv': 2518, 'buddi': 2519, 'pattern': 2520, 'jame': 2521, 'bash': 2522, 'genuin': 2523, 'buffalo': 2524, 'corner': 2525, 'httptcozujwuiomb3': 2526, 'meekmil': 2527, 'philli': 2528, 'score': 2529, 'flower': 2530, 'administr': 2531, 'solid': 2532, 'locat': 2533, 'known': 2534, 'pepper': 2535, 'bluejay': 2536, 'kurtschlicht': 2537, 'justifi': 2538, 'logic': 2539, 'calam': 2540, 'restor': 2541, 'disgust': 2542, 'chase': 2543, 'soak': 2544, 'barn': 2545, 'joke': 2546, 'fr': 2547, 'weight': 2548, 'skinni': 2549, 'chri': 2550, 'certainli': 2551, 'demon': 2552, 'diet': 2553, 'recip': 2554, 'tabl': 2555, 'screw': 2556, 'puppi': 2557, 'chines': 2558, 'ted': 2559, 'omfg': 2560, 'relax': 2561, 'spain': 2562, 'warfight': 2563, 'prematur': 2564, 'sorrow': 2565, 'shooter': 2566, 'purpl': 2567, 'movement': 2568, 'qualiti': 2569, 'promot': 2570, 'wolf': 2571, 'ptsd': 2572, 'mistak': 2573, 'sf': 2574, 'underway': 2575, 'depend': 2576, 'heroin': 2577, 'cleanup': 2578, 'brian': 2579, 'endur': 2580, 'climb': 2581, 'easili': 2582, 'vinyl': 2583, 'enabl': 2584, 'propos': 2585, 'dorret': 2586, 'rid': 2587, 'immedi': 2588, 'suddenli': 2589, 'åê': 2590, 'slam': 2591, 'howev': 2592, 'quest': 2593, 'monsoon': 2594, 'intersect': 2595, 'sac': 2596, 'franklin': 2597, 'lover': 2598, 'prayer': 2599, 'tutori': 2600, 'faster': 2601, 'nike': 2602, 'fighter': 2603, 'violat': 2604, 'foxtrot': 2605, 'cat': 2606, 'tribun': 2607, 'bulletin': 2608, 'solut': 2609, 'cousin': 2610, 'hang': 2611, 'analysi': 2612, 'journalist': 2613, 'bigamist': 2614, 'pedestrian': 2615, 'walmart': 2616, 'moth': 2617, 'us': 2618, 'belong': 2619, 'client': 2620, 'shepherd': 2621, 'portion': 2622, 'birmingham': 2623, 'hungri': 2624, 'radar': 2625, 'jordan': 2626, 'xd': 2627, 'just\\x89û': 2628, 'saddlebrook': 2629, 'maintain': 2630, 'michigan': 2631, 'giveaway': 2632, 'here\\x89ûª': 2633, 'commut': 2634, 'titl': 2635, 'cta': 2636, '39': 2637, 'mall': 2638, 'mum': 2639, '10th': 2640, 'smash': 2641, 'childhood': 2642, 'restrict': 2643, 'apollobrown': 2644, 'regard': 2645, 'the\\x89û': 2646, 'sittw': 2647, 'nema': 2648, 'meme': 2649, 'museum': 2650, 'httpstcorqwuoy1fm4': 2651, 'humid': 2652, 'rapidli': 2653, 'nois': 2654, 'grace': 2655, 'request': 2656, 'magnum': 2657, 'blanket': 2658, 'unsaf': 2659, 'knife': 2660, 'specialist': 2661, 'retail': 2662, 'accept': 2663, 'mechan': 2664, 'grey': 2665, 'door': 2666, 'of\\x89û': 2667, 'cape': 2668, 'button': 2669, 'porn': 2670, 'particularli': 2671, 'eight': 2672, 'languag': 2673, 'captain': 2674, 'combin': 2675, 'shake': 2676, 'reno': 2677, '133': 2678, 'mansion': 2679, 'hide': 2680, 'environ': 2681, 'lrt': 2682, 'farrakhan': 2683, 'nj': 2684, 'stamp': 2685, 'strand': 2686, 'surg': 2687, 'afterlif': 2688, 'bewar': 2689, 'sight': 2690, 'virgil': 2691, 'distinct': 2692, 'europ': 2693, 'refer': 2694, '75': 2695, 'boot': 2696, 'reshap': 2697, 'hmm': 2698, 'collin': 2699, 'footag': 2700, 'raynbowaffair': 2701, 'editor': 2702, 'diamondkesawn': 2703, 'ramag': 2704, '4playthursday': 2705, '1716': 2706, 'discu': 2707, 'lulgzimbestpict': 2708, 'sarah': 2709, 'startup': 2710, 'larger': 2711, 'edinburgh': 2712, 'realmandyrain': 2713, 'trolley': 2714, 'blunt': 2715, 'kurdish': 2716, 'hieroglyph': 2717, 'pov': 2718, 'lethal': 2719, 'cali': 2720, 'kerricktri': 2721, '13000': 2722, 'pour': 2723, 'rockyfir': 2724, 'hype': 2725, 'acquisit': 2726, 'jamaica': 2727, 'nsfw': 2728, 'lip': 2729, 'fb': 2730, 'greet': 2731, 'split': 2732, 'imposs': 2733, 'nb': 2734, 'advic': 2735, 'overturn': 2736, 'i77': 2737, 'sr': 2738, 'ram': 2739, '150': 2740, 'kenya': 2741, 'charl': 2742, 'joel': 2743, 'belief': 2744, 'context': 2745, 'wedn': 2746, '29072015': 2747, 'kca': 2748, 'votejkt48id': 2749, 'although': 2750, 'esp': 2751, 'sprinter': 2752, 'lez': 2753, 'compliant': 2754, 'merci': 2755, 'previou': 2756, 'compet': 2757, 'boom': 2758, 'britain': 2759, 'abil': 2760, 'cell': 2761, 'transform': 2762, 'arizona': 2763, 'coat': 2764, 'occas': 2765, 'paid': 2766, 'vladimir': 2767, 'kingdom': 2768, 'monkey': 2769, 'cd': 2770, 'comedi': 2771, 'tori': 2772, 'chart': 2773, 'httptconnmqlz91o9': 2774, 'httptcoo91f3cyy0r': 2775, 'httptcothoyhrhkfj': 2776, 'httptcowvj39a3bgm': 2777, 'code': 2778, 'salvat': 2779, 'ralli': 2780, 'swiss': 2781, 'spear': 2782, 'satan': 2783, 'mido': 2784, 'jewish': 2785, 'localarsonist': 2786, 'frank': 2787, 'elliott': 2788, 'telegraph': 2789, 'inspir': 2790, 'rocket': 2791, 'idiot': 2792, 'prior': 2793, 'simpli': 2794, 'patrick': 2795, 'racist': 2796, 'kall': 2797, 'mattson': 2798, '103': 2799, 'deck': 2800, 'clever': 2801, 'snipe': 2802, 'princ': 2803, 'shirt': 2804, '800': 2805, 'gopdeb': 2806, 'cdc': 2807, 'specimen': 2808, 'extens': 2809, 'resourc': 2810, 'contact': 2811, 'cia': 2812, 'colleg': 2813, 'olymp': 2814, 'cleveland': 2815, 'trade': 2816, 'dj': 2817, 'fireman': 2818, 'trail': 2819, 'morgan': 2820, 'grade': 2821, 'delta': 2822, 'fifth': 2823, 'chicken': 2824, 'bunch': 2825, 'toe': 2826, 'favourit': 2827, 'soccer': 2828, 'ty': 2829, 'zayn': 2830, 'reward': 2831, 'requir': 2832, 'memphi': 2833, 'remix': 2834, 'achiev': 2835, '5000': 2836, 'hr': 2837, 'peanut': 2838, 'mic': 2839, 'candi': 2840, 'lizard': 2841, 'lonewolffur': 2842, 'ima': 2843, '45': 2844, 'tattoo': 2845, 'bp': 2846, 'mid': 2847, 'encount': 2848, 'aggress': 2849, 'nightmar': 2850, 'dare': 2851, 'shuffl': 2852, 'theyd': 2853, 'inning': 2854, 'utterli': 2855, 'whoever': 2856, '6th': 2857, 'sophi': 2858, 'hip': 2859, 'yanke': 2860, 'friendship': 2861, 'buckl': 2862, 'varieti': 2863, 'probe': 2864, 'garbag': 2865, 'beforeitsnew': 2866, 'fantast': 2867, 'kyle': 2868, 'democraci': 2869, 'fed': 2870, 'yard': 2871, 'bundl': 2872, 'react': 2873, 'pledg': 2874, 'forgot': 2875, 'winston': 2876, 'alcohol': 2877, 'mitig': 2878, 'hinton': 2879, 'bust': 2880, 'dam': 2881, 'estat': 2882, 'expens': 2883, '300': 2884, 'derbi': 2885, 'plate': 2886, 'boyfriend': 2887, 'dirt': 2888, 'bike': 2889, 'workout': 2890, 'method': 2891, 'influenc': 2892, 'amongst': 2893, 'striker': 2894, 'sydney': 2895, '\\x89ûïwe': 2896, '28': 2897, 'scotland': 2898, 'sharp': 2899, 'eventu': 2900, 'higher': 2901, 'idc': 2902, '2009': 2903, 'licens': 2904, 'btw': 2905, 'adjust': 2906, 'benefit': 2907, 'werent': 2908, 'yorker': 2909, 'åè': 2910, 'counselor': 2911, 'marijuana': 2912, 'draw': 2913, 'favor': 2914, 'streak': 2915, 'yahoo': 2916, 'circu': 2917, 'lung': 2918, 'whip': 2919, 'betray': 2920, 'tide': 2921, 'houston': 2922, 'runner': 2923, 'driven': 2924, '200': 2925, 'cart': 2926, 'guard': 2927, '852015': 2928, 'eb': 2929, 'collisionno': 2930, 'innov': 2931, 'occup': 2932, 'alright': 2933, 'fwi': 2934, 'sampl': 2935, 'po': 2936, 'log': 2937, 'husband': 2938, 'bio': 2939, 'prioriti': 2940, 'reap': 2941, 'slate': 2942, 'campu': 2943, 'pam': 2944, 'spin': 2945, 'quarter': 2946, 'panel': 2947, 'transit': 2948, '3rd': 2949, 'asian': 2950, 'initi': 2951, 'constantli': 2952, 'preview': 2953, 'preserv': 2954, 'african': 2955, 'fettilootch': 2956, 'slanglucci': 2957, 'httpstcomoll5vd8yd': 2958, 'spider': 2959, 'legit': 2960, 'gameplay': 2961, 'contribut': 2962, 'grandma': 2963, 'mexican': 2964, 'cecilthelion': 2965, 'voter': 2966, 'rifl': 2967, 'redlight': 2968, 'stewart': 2969, 'annoy': 2970, 'born': 2971, 'novel': 2972, 'discoveri': 2973, 'inevit': 2974, 'bibl': 2975, 'nfl': 2976, 'ton': 2977, 'abe': 2978, 'meant': 2979, 'capit': 2980, 'architect': 2981, 'boundari': 2982, 'whether': 2983, 'factor': 2984, 'psa': 2985, '233liveonlin': 2986, 'schedul': 2987, 'birth': 2988, 'realdonaldtrump': 2989, 'democrat': 2990, 'modi': 2991, 'illustr': 2992, 'biker': 2993, 'railway': 2994, 'sentinel': 2995, 'prabhu': 2996, 'sail': 2997, 'attitud': 2998, 'signific': 2999, 'conspiraci': 3000, 'i\\x89û': 3001, 'wick': 3002, 'defeat': 3003, 'op': 3004, 'asleep': 3005, 't': 3006, 'meat': 3007, 'surfac': 3008, 'i\\x89ûªv': 3009, 'beckarnley': 3010, 'famou': 3011, 'anybodi': 3012, 'utter': 3013, 'cnbc': 3014, 'urgent': 3015, 'starter': 3016, 'msf': 3017, '55': 3018, 'trace': 3019, 'columbia': 3020, 'ego': 3021, 'weed': 3022, 'desert': 3023, 'yellow': 3024, 'superhero': 3025, 'epilepsi': 3026, 'jacket': 3027, 'fee': 3028, 'opu': 3029, 'shelli': 3030, 'eq': 3031, 'fart': 3032, 'lighten': 3033, 'dock': 3034, 'vacat': 3035, 'seed': 3036, 'veget': 3037, 'excus': 3038, 'blond': 3039, 'deploy': 3040, 'robinson': 3041, 'edmonton': 3042, 'trafford': 3043, 'odeon': 3044, 'miami': 3045, 'sandi': 3046, 'reid': 3047, 'earner': 3048, 'mouth': 3049, 'otrametlif': 3050, 'hahaha': 3051, 'southeast': 3052, 'logo': 3053, 'testimoni': 3054, 'erect': 3055, 'walker': 3056, 'waimat': 3057, 'stockton': 3058, 'perman': 3059, 'itll': 3060, 'mkx': 3061, 'falcon': 3062, 'unawar': 3063, 'unknown': 3064, 'pant': 3065, 'brave': 3066, 'maryland': 3067, 'penni': 3068, 'bird': 3069, 'chest': 3070, 'steam': 3071, 'cap': 3072, 'slowli': 3073, 'socialnew': 3074, '72w': 3075, 'alloy': 3076, 'outdoor': 3077, 'defect': 3078, 'himalaya': 3079, 'throughout': 3080, 'pound': 3081, 'yycstorm': 3082, 'politician': 3083, 'pdx911': 3084, 'expand': 3085, 'warfar': 3086, 'oregon': 3087, 'role': 3088, 'haram': 3089, 'headphon': 3090, 'defin': 3091, 'male': 3092, 'southdown': 3093, 'urg': 3094, 'rotat': 3095, 'applic': 3096, 'chew': 3097, 'httptcolvlh3w3awo': 3098, 'httptcoviwxy1xdyk': 3099, '731': 3100, 'httptcovvplfqv58p': 3101, 'leadership': 3102, 'tripl': 3103, 'spoke': 3104, 'pretend': 3105, 'worldnetdaili': 3106, '02': 3107, 'bounti': 3108, '\\x89û÷extrem': 3109, 'offensive\\x89ûª': 3110, 'pink': 3111, 'decor': 3112, 'yobe': 3113, 'newlyw': 3114, 'whao': 3115, 'carryi': 3116, 'nickcannon': 3117, 'listenbuy': 3118, 'itunesmus': 3119, 'httpstcodehmym5lpk': 3120, 'blowmandyup': 3121, 'salvador': 3122, '\\x89û¢': 3123, 'venezuela': 3124, 'forb': 3125, 'darud': 3126, 'cheat': 3127, 'pillow': 3128, 'detectado': 3129, 'japìn': 3130, 'jst': 3131, 'georgia': 3132, 'crater': 3133, 'instruct': 3134, 'desk': 3135, 'nasahurrican': 3136, 'invalid': 3137, 'graze': 3138, 'rexyy': 3139, 'stomach': 3140, 'crossbord': 3141, 'redhand': 3142, 'nave': 3143, 'metrofmtalk': 3144, 'overnight': 3145, 'mama': 3146, 'nba': 3147, 'livingsaf': 3148, 'anywher': 3149, 'godslov': 3150, 'thanku': 3151, 'landfal': 3152, 'bolt': 3153, 'similar': 3154, 'cheyenn': 3155, 'idfir': 3156, 'hike': 3157, 'gresham': 3158, 'turnpik': 3159, 'stat': 3160, 'niec': 3161, 'cargo': 3162, 'peep': 3163, 'fallen': 3164, 'ian': 3165, 'magnitud': 3166, 'bicycl': 3167, 'slower': 3168, 'marker': 3169, '86': 3170, '23': 3171, 'taxi': 3172, 'previous': 3173, 'httptcothyzomvwu0': 3174, 'httptco83joo0xk29': 3175, '2010': 3176, 'orang': 3177, 'cr': 3178, 'coahuila': 3179, 'cowork': 3180, 'nude': 3181, 'dtn': 3182, 'statist': 3183, 'halt': 3184, 'paramed': 3185, 'instantli': 3186, 'tryout': 3187, 'fraction': 3188, 'alien': 3189, 'org': 3190, 'christi': 3191, 'audienc': 3192, 'doc': 3193, 'pbban': 3194, 'temporary300': 3195, 'xp': 3196, '360': 3197, 'sixth': 3198, '125': 3199, 'ultimalucha': 3200, '5sosfam': 3201, 'men': 3202, '78': 3203, 'britney': 3204, 'appoint': 3205, 'thick': 3206, 'shira': 3207, 'theadvocatemag': 3208, 'vegetarian': 3209, 'trick': 3210, 'nasti': 3211, 'recycl': 3212, 'guilti': 3213, 'brigad': 3214, 'liberti': 3215, 'isil': 3216, 'horrif': 3217, 'karachi': 3218, 'psycholog': 3219, 'goat': 3220, 'premier': 3221, 'donald': 3222, 'cotton': 3223, 'tix': 3224, 'frozen': 3225, 'recreat': 3226, 'faith': 3227, 'preseason': 3228, 'chip': 3229, 'chevi': 3230, 'jersey': 3231, 'chat': 3232, 'tb': 3233, 'throwback': 3234, 'motiv': 3235, 'engag': 3236, 'descend': 3237, 'gallipoli': 3238, 'exclus': 3239, 'corp': 3240, 'atlanta': 3241, 'warrior': 3242, 'volunt': 3243, 'fbi': 3244, 'dedic': 3245, 'fade': 3246, 'detain': 3247, 'hottest': 3248, 'leo': 3249, 'hiphop': 3250, 'swarm': 3251, 'master': 3252, 'temperatur': 3253, 'latin': 3254, 'freez': 3255, '95': 3256, 'sweat': 3257, 'fam': 3258, 'bother': 3259, 'proof': 3260, 'nugget': 3261, 'apolog': 3262, 'gel': 3263, 'hug': 3264, 'safer': 3265, 'def': 3266, 'timelin': 3267, 'jazz': 3268, 'prob': 3269, 'desper': 3270, 'notif': 3271, 'snapchat': 3272, 'hoax': 3273, 'whistl': 3274, 'pair': 3275, 'theori': 3276, 'cycl': 3277, 'ohio': 3278, 'detroit': 3279, 'cunt': 3280, 'rank': 3281, 'blizzarddraco': 3282, 'dq': 3283, 'dolphin': 3284, 'caution': 3285, 'besid': 3286, 'cuff': 3287, 'intend': 3288, 'chapter': 3289, 'son': 3290, 'psalm': 3291, 'soni': 3292, 'invas': 3293, 'tokyo': 3294, 'sexi': 3295, 'landscap': 3296, 'drama': 3297, 'deactiv': 3298, 'aunt': 3299, 'todd': 3300, 'sand': 3301, 'mosquito': 3302, 'butt': 3303, 'nicki': 3304, 'thin': 3305, 'ipad': 3306, 'jp': 3307, 'lyric': 3308, 'johnson': 3309, 'stacey': 3310, 'casual': 3311, 'stylish': 3312, 'admin': 3313, 'concept': 3314, 'appropri': 3315, 'spray': 3316, 'plummet': 3317, '1100': 3318, 'iraqi': 3319, 'invad': 3320, 'harbor': 3321, 'flee': 3322, 'background': 3323, 'ri': 3324, 'daesh': 3325, 'network': 3326, 'nato': 3327, 'unfold': 3328, 'australia\\x89ûª': 3329, 'legendari': 3330, 'parad': 3331, 'sustain': 3332, 'ooh': 3333, 'cash': 3334, 'overlook': 3335, 'blacklivesmatt': 3336, 'boxer': 3337, 'whatev': 3338, 'messi': 3339, 'ronaldo': 3340, 'lit': 3341, 'pope': 3342, 'clad': 3343, '2pm': 3344, '3alarm': 3345, 'nazi': 3346, '43': 3347, 'brush': 3348, 'nap': 3349, 'that\\x89ûª': 3350, 'visibl': 3351, 'muscl': 3352, 'michael5so': 3353, 'you\\x89ûªr': 3354, 'soup': 3355, 't\\x89û': 3356, 'contempl': 3357, 'kitten': 3358, 'burnt': 3359, 'mitt\\x89û\\x9d': 3360, 'tini': 3361, 'standwithpp': 3362, 'egg': 3363, 'intensifi': 3364, 'honest': 3365, '\\x89ûïthe': 3366, 'highest': 3367, 'cord': 3368, 'correl': 3369, 'independ': 3370, 'calum5so': 3371, 'repay': 3372, 'republ': 3373, 'twist': 3374, 'diff': 3375, 'financ': 3376, 'discuss': 3377, 'revers': 3378, 'armori': 3379, 'illinoi': 3380, 'biolog': 3381, 'toxic': 3382, 'drug': 3383, 'proce': 3384, 'chunk': 3385, 'groom': 3386, 'alex': 3387, 'minion': 3388, 'balanc': 3389, 'ferri': 3390, 'edg': 3391, 'dublin': 3392, 'talkradio': 3393, 'growth': 3394, 'roh3': 3395, 'confus': 3396, 'bracelet': 3397, 'castl': 3398, 'vancouv': 3399, 'spell': 3400, '300000': 3401, 'curs': 3402, 'ebik': 3403, 'punch': 3404, 'suv': 3405, 'horn': 3406, 'tyre': 3407, 'constitut': 3408, 'cow': 3409, 'local\\x89û': 3410, 'spur': 3411, 'baltimor': 3412, 'coal': 3413, 'tragic': 3414, 'endors': 3415, 'photoshop': 3416, 'euro': 3417, 'northwest': 3418, 'bieber': 3419, 'holland': 3420, '2u': 3421, 'jimmyfallon': 3422, 'bone': 3423, 'worstsummerjob': 3424, 'christ': 3425, 'km': 3426, 'nikeplu': 3427, 'empir': 3428, 'teenag': 3429, '2030': 3430, 'goodby': 3431, '5pm': 3432, '9pm': 3433, 'mercuri': 3434, 'cherri': 3435, 'outfit': 3436, 'wy': 3437, 'homeown': 3438, 'devil': 3439, 'nail': 3440, 'rockin': 3441, 'uber': 3442, 'courag': 3443, 'attract': 3444, 'perspect': 3445, 'bail': 3446, 'bff': 3447, 'vibrat': 3448, 'shitti': 3449, 'awaken': 3450, 'stall': 3451, 'provinc': 3452, 'auto': 3453, 'averag': 3454, 'despit': 3455, 'scale': 3456, 'swing': 3457, 'surf': 3458, 'perhap': 3459, 'teach': 3460, 'theme': 3461, 'shade': 3462, 'rainfal': 3463, 'indi': 3464, 'accionempresa': 3465, 'gerenciatodo': 3466, 'å¨': 3467, 'arab': 3468, 'consist': 3469, 'psychiatr': 3470, 'waterway': 3471, '1200': 3472, 'domin': 3473, 'bloomberg': 3474, 'dalla': 3475, 'unsuckdcmetro': 3476, 'yahoonew': 3477, 'whoa': 3478, '2000': 3479, 'jon': 3480, 'resum': 3481, 'modiministri': 3482, 'swell': 3483, 'abomin': 3484, 'neighborhood': 3485, 'neither': 3486, 'tumblr': 3487, 'anthoni': 3488, 'pitcher': 3489, 'recap': 3490, 'cock': 3491, 'chop': 3492, 'ford': 3493, 'demonstratio': 3494, 'matthew': 3495, 'tinyjecht': 3496, 'stun': 3497, 'spinningbot': 3498, 'connectorconnecto': 3499, 'brand': 3500, 'edward': 3501, 'barack': 3502, 'quak': 3503, 'settlement': 3504, 'ihhen': 3505, 'openli': 3506, 'elem': 3507, 'gofundm': 3508, 'okanagan': 3509, 'drain': 3510, 'that\\x89û': 3511, 'graysondolan': 3512, 'insult': 3513, 'horizon': 3514, 'steak': 3515, 'clev': 3516, 'sort': 3517, 'rat': 3518, 'bounc': 3519, 'nineyearold': 3520, 'yell': 3521, 'unreal': 3522, 'brew': 3523, 'circl': 3524, 'tasmania': 3525, 'httptcov3azwoamzk': 3526, 'time20150805': 3527, '15km': 3528, '09': 3529, 'epicent': 3530, 'm194': 3531, '0800': 3532, '6aug': 3533, 'atm': 3534, 'weallheartonedirect': 3535, 'wouldn\\x89ûªt': 3536, 'backyard': 3537, 'columbu': 3538, 'lawsuit': 3539, 'supervisor': 3540, 'dental': 3541, 'appeal': 3542, 'buffer': 3543, 'cityofcalgari': 3544, 'capac': 3545, 'primarili': 3546, 'fte': 3547, 'committe': 3548, 'domest': 3549, 'indiffer': 3550, 'ghost': 3551, 'nowher': 3552, 'grew': 3553, 'shore': 3554, 'sunni': 3555, 'cabin': 3556, 'ink': 3557, '\\x89ûïa': 3558, 'saint': 3559, 'ryan': 3560, 'doll': 3561, 'chick': 3562, 'pet': 3563, 'verseth': 3564, 'squeez': 3565, 'greg': 3566, 'artwork': 3567, 'penn': 3568, 'climatechang': 3569, 'denmark': 3570, 'regim': 3571, 'adventur': 3572, 'conquest': 3573, 'vermont': 3574, 'tremor': 3575, 'irish': 3576, 'primari': 3577, 'wisdom': 3578, 'sigalert': 3579, 'irvin': 3580, 'wayn': 3581, 'choos': 3582, 'fl': 3583, 'sept': 3584, 'curb': 3585, 'technic': 3586, 'hatcap': 3587, 'silvergray': 3588, 'embroid': 3589, 'guest': 3590, 'bluetooth': 3591, 'cue': 3592, 'a\\x89û': 3593, 'shelbi': 3594, 'grant': 3595, 'mud': 3596, 'prone': 3597, '166': 3598, '69': 3599, 'pisgah': 3600, '375': 3601, 'neck': 3602, 'q': 3603, 'consum': 3604, 'mike': 3605, 's\\x89û': 3606, 'cupcak': 3607, 'scar': 3608, 'highli': 3609, 'chelsea': 3610, 'lionel': 3611, 'sneak': 3612, 'needl': 3613, 'extract': 3614, 'arnhem': 3615, 'longest': 3616, 'tripledigit': 3617, 'cooler': 3618, 'compens': 3619, 'surah': 3620, 'humaza': 3621, 'exploit': 3622, 'dijk': 3623, 'jeep': 3624, 'mediev': 3625, 'weigh': 3626, 'cooper': 3627, 'msnbc': 3628, 'cod': 3629, 'boko': 3630, 'noaa': 3631, 'wedaug5th': 3632, 'turbin': 3633, '41': 3634, 'wireless': 3635, 'stereo': 3636, 'coral': 3637, 'snowden': 3638, 'katrina': 3639, 'foster': 3640, 'settl': 3641, 'scott': 3642, 'forgotten': 3643, 'profession': 3644, 'hatchet': 3645, 'rush': 3646, 'devalu': 3647, 'clearedincid': 3648, 'volga': 3649, 'kerri': 3650, 'depress': 3651, 'realtim': 3652, 'unfortun': 3653, 'gusti': 3654, 'autobiographi': 3655, 'lawton': 3656, 'auspol': 3657, 'noahanynam': 3658, 'faroeisland': 3659, 'gunsens': 3660, 'massmurder': 3661, 'incit': 3662, 'observ': 3663, 'cb': 3664, 'march': 3665, 'barackobama': 3666, 'hanneman': 3667, 'bulli': 3668, 'sp': 3669, 'badg': 3670, 'suprem': 3671, 'uniqu': 3672, 'mirag': 3673, 'net': 3674, 'billion': 3675, 'chernobyl': 3676, 'fennovoima': 3677, 'palin': 3678, 'bb4sp': 3679, 'battleship': 3680, 'labour': 3681, '42': 3682, 'sponsor': 3683, 'atlant': 3684, 'crown': 3685, 'robotrainstorm': 3686, 'hardli': 3687, 'sandiego': 3688, 'reaad': 3689, 'plsss': 3690, 'oc': 3691, 'zakbagan': 3692, 'vessel': 3693, 'jewel': 3694, 'wee': 3695, 'camilacabello97': 3696, 'sa15t': 3697, 'okinawa': 3698, '10km': 3699, 'bethlehem': 3700, 'whelen': 3701, 'ww2': 3702, 'locomot': 3703, 'june': 3704, 'franci': 3705, '3inspir': 3706, 'witter': 3707, 'ntsb': 3708, 'hama': 3709, 'eg': 3710, '361': 3711, 'reput': 3712, 'cain': 3713, 'shanghai': 3714, 'chattanooga': 3715, 'whoop': 3716, 'sheet': 3717, '1030pm': 3718, '400': 3719, 'renew': 3720, 'precipit': 3721, 'measur': 3722, 'hardi': 3723, 'tunein': 3724, 'httptcoxssgedsbh4': 3725, 'karymski': 3726, 'ronni': 3727, 'resort': 3728, 'dannyonpc': 3729, 'rapidc': 3730, 'salvadoran': 3731, 'afford': 3732, 'monument': 3733, '7new': 3734, 'albania': 3735, 'tanker': 3736, 'closer': 3737, 'archiv': 3738, 'goo': 3739, 'rubi': 3740, 'hah': 3741, 'ski': 3742, 'pasta': 3743, 'httptcoroi2nsmejj': 3744, 'httptco3tj8zjin21': 3745, 'httptcoyduixefip': 3746, 'httptcolxtjc87kl': 3747, 'brighton': 3748, 'salmon': 3749, 'kurd': 3750, 'intl': 3751, 'revel': 3752, 'pen': 3753, '118': 3754, 'pill': 3755, 'donni': 3756, 'fyi': 3757, 'halfway': 3758, 'backup': 3759, 'roger': 3760, 'gloriou': 3761, 'tc': 3762, 'roller': 3763, 'habit': 3764, 'interrupt': 3765, 'hybrid': 3766, 'ps4': 3767, 'strict': 3768, 'aviat': 3769, 'lifetim': 3770, 'beg': 3771, 'yugvani': 3772, 'hella': 3773, 'tilnow': 3774, 'fouseytub': 3775, 'dual': 3776, 'and\\x89û': 3777, 'trunk': 3778, 'laid': 3779, 'ab': 3780, 'behalf': 3781, 'h\\x89û': 3782, 'uptotheminut': 3783, '2005': 3784, 'scorpion': 3785, 'gig': 3786, 'skip': 3787, 'evolv': 3788, 'gilbert23': 3789, 'httpstcoe8dl1lncvu': 3790, 'nova': 3791, 'dant': 3792, 'johnni': 3793, 'taylor': 3794, 'enorm': 3795, 'impend': 3796, 'cairo': 3797, 'trubgm': 3798, 'prod': 3799, 'hidden': 3800, 'sketch': 3801, 'heavenli': 3802, 'ethic': 3803, 'european': 3804, 'convert': 3805, 'billboard': 3806, 'dial': 3807, 'quartz': 3808, 'fabric': 3809, 'videoveranomtv': 3810, 'rey': 3811, 'wwi': 3812, 'commiss': 3813, 'hamilton': 3814, 'newsintweet': 3815, 'burglari': 3816, 'banki': 3817, 'latim': 3818, 'mc': 3819, 'plastic': 3820, 'plead': 3821, 'invit': 3822, 'vigil': 3823, 'constant': 3824, 'grabber': 3825, '\\x89ûïhatchet': 3826, 'control\\x89û\\x9d': 3827, 'stan': 3828, '56': 3829, 'copi': 3830, 'ari': 3831, 'transgend': 3832, 'scholar': 3833, 'troll': 3834, 'remark': 3835, 'bitcoin': 3836, 'dig': 3837, 'tshirt': 3838, 'hockey': 3839, 'furi': 3840, 'mgm': 3841, '1620': 3842, 'len': 3843, 'tumbl': 3844, 'bt': 3845, '53': 3846, 'pickup': 3847, 'premium': 3848, 'droid': 3849, 'bull': 3850, 'saturn': 3851, 'aveng': 3852, 'frontpag': 3853, 'rickperri': 3854, 'packag': 3855, 'chronicl': 3856, 'manufactur': 3857, 'jax': 3858, 'scoopit': 3859, 'biolab': 3860, 'procedur': 3861, 'autom': 3862, 'homeland': 3863, 'fold': 3864, 'rio': 3865, 'crave': 3866, 'apt': 3867, 'condo': 3868, 'babe': 3869, 'dem': 3870, 'ace': 3871, 'smooth': 3872, 'listenl': 3873, 'cameo': 3874, 'rev': 3875, 'fm': 3876, '32': 3877, 'vocal': 3878, 's3xleak': 3879, 'ph0to': 3880, '19yr': 3881, 'ashwo': 3882, 'festac': 3883, 'exp0s': 3884, 'bbm': 3885, 'ch': 3886, 'mb': 3887, 'slap': 3888, 'rub': 3889, 'vampiro': 3890, 'liber': 3891, 'wannab': 3892, 'scratch': 3893, 'wise': 3894, 'lolol': 3895, 'rick': 3896, 'gambit': 3897, 'michel': 3898, 'skirt': 3899, 'rice': 3900, 'honey': 3901, 'dwarf': 3902, 'athlet': 3903, 'dope': 3904, 'welfar': 3905, 'shaker': 3906, 'carl': 3907, '37': 3908, 'squar': 3909, 'avail': 3910, 'nut': 3911, 'regret': 3912, 'dryer': 3913, 'grandpa': 3914, 'phenomen': 3915, 'salli': 3916, 'xxx': 3917, 'insomnia': 3918, 'rousey': 3919, 'thigh': 3920, 'monday': 3921, 'legend': 3922, 'repres': 3923, 'blake': 3924, 'ee': 3925, 'vanessa': 3926, 'minaj': 3927, 'amirit': 3928, 'soft': 3929, 'healthi': 3930, 'backpack': 3931, 'cage': 3932, 'authent': 3933, 'rondarousey': 3934, 'idgaf': 3935, 'capabl': 3936, 'wwe': 3937, '2k15': 3938, 'ghostwrit': 3939, 'meanwhil': 3940, 'spit': 3941, 'lay': 3942, 'contrast': 3943, 'bestsel': 3944, 'fossil': 3945, 'hall': 3946, 'charlott': 3947, 'fairfax': 3948, 'dept': 3949, 'locker': 3950, 'zipper': 3951, 'scottwalk': 3952, 'sweep': 3953, 'crossbodi': 3954, 'waist': 3955, 'deriv': 3956, 'troy': 3957, 'ahh': 3958, '1965': 3959, 'shouldv': 3960, 'kany': 3961, 'repeat': 3962, 'loo': 3963, 'poland': 3964, 'crude': 3965, 'uncl': 3966, 'lauren': 3967, 'gif': 3968, 'hardest': 3969, 'cryptic': 3970, 'humbl': 3971, 'entrepreneur': 3972, 'nbcnew': 3973, 'narr': 3974, 'marshal': 3975, 'prosyn': 3976, 'btwn': 3977, 'manmad': 3978, 'icymi': 3979, 'johannesburg': 3980, 'mainland': 3981, 'outta': 3982, 'infosec': 3983, 'embarrass': 3984, 'rockbottomradfm': 3985, 'noncompli': 3986, 'detector': 3987, 'brick': 3988, 'sweden': 3989, 'fourth': 3990, 'in\\x89û': 3991, 'wmur9': 3992, 'drift': 3993, 'myfitnessp': 3994, 'mcdonald': 3995, 'hermancranston': 3996, 'atk': 3997, 'letsfootbal': 3998, 'format': 3999, 'techniqu': 4000, 'lou': 4001, 'jerri': 4002, 'demonstr': 4003, 'coquitlam': 4004, 'render': 4005, 'co2': 4006, 'hillari': 4007, '1m': 4008, 'command': 4009, 'pb': 4010, 'washingtonpost': 4011, 'propertycasualti': 4012, 'grown': 4013, 'shine': 4014, 'metric': 4015, 'greenharvard': 4016, 'pjnet': 4017, 'cleric': 4018, 'megynkelli': 4019, 'adopt': 4020, 'peterjuk': 4021, 'barri': 4022, 'solo': 4023, 'council': 4024, 'mutual': 4025, 'perfectli': 4026, 'studio': 4027, 'sheer': 4028, 'weathernetwork': 4029, 'acut': 4030, 'assum': 4031, 'chem': 4032, 'sharethi': 4033, 'radioact': 4034, 'nbc': 4035, 'savebe': 4036, 'cnnbrk': 4037, 'obsess': 4038, 'plumb': 4039, 'mate': 4040, 'fave': 4041, 'rueb': 4042, '4500feet': 4043, 'elit': 4044, '87': 4045, 'runaway': 4046, 'pont': 4047, 'blowout': 4048, 'reaction': 4049, 'oral': 4050, 'wi': 4051, 'exhaust': 4052, 'gateau': 4053, 'district': 4054, 'heartless': 4055, 'jan': 4056, 'greek': 4057, 'moder': 4058, 'speci': 4059, 'chosen': 4060, 'avenu': 4061, 'veil': 4062, 'witch': 4063, 'supernatur': 4064, 'coincid': 4065, 'roanok': 4066, 'verdict': 4067, 'podcast': 4068, 'portug': 4069, 'assault': 4070, '18wheeler': 4071, 'anna': 4072, 'happili': 4073, 'commenc': 4074, 'antonio': 4075, 'oo': 4076, 'harrybecar': 4077, 'journey': 4078, 'pole': 4079, 'collision1141': 4080, 'enrt': 4081, 'enrout': 4082, 'tunnel': 4083, 'i405': 4084, 'southbound': 4085, 'collisionunkn': 4086, '900': 4087, '43rd': 4088, 'separ': 4089, '\\x89ûïyou': 4090, 'beginn': 4091, 'pasco': 4092, 'rant': 4093, 'cpanel': 4094, 'hoffman': 4095, 'maj': 4096, 'restiv': 4097, 'thief': 4098, '84': 4099, 'ant': 4100, 'intact': 4101, 'wen': 4102, 'wrapup': 4103, 'gym': 4104, 'sportwatch': 4105, 'papi': 4106, 'jone': 4107, 'wine': 4108, 'stolen': 4109, 'wnd': 4110, 'inst': 4111, 'apch': 4112, 'rwi': 4113, 'taxiway': 4114, 'navbl': 4115, 'tmp': 4116, 'outlet': 4117, 'purpos': 4118, '\\x89ûïhannaph\\x89û\\x9d': 4119, 'komen': 4120, 'talent': 4121, 'bangladesh': 4122, 'broadcast': 4123, 'upcom': 4124, '1970': 4125, 'core': 4126, 'cobra': 4127, 'passion': 4128, 'd': 4129, 'complain': 4130, '2500': 4131, 'enhanc': 4132, 'trillion': 4133, 'instant': 4134, 'inc': 4135, 'optic': 4136, 'madison': 4137, 'punctur': 4138, 'foreign': 4139, 'claytonbry': 4140, 'artistsunit': 4141, 'eaten': 4142, 'poison': 4143, 'permit': 4144, 'complaint': 4145, 'forbid': 4146, 'sore': 4147, 'lui': 4148, 'sake': 4149, 'moor': 4150, 'consol': 4151, 'certif': 4152, 'starv': 4153, 'comparison': 4154, 'upload': 4155, 'mullah': 4156, 'omar': 4157, 'taliban': 4158, 'hint': 4159, 'nephew': 4160, 'shipwreck': 4161, 'milk': 4162, 'physician': 4163, 'ill': 4164, 'older': 4165, 'equat': 4166, 'adam': 4167, 'najib': 4168, 'sympathi': 4169, 'embrac': 4170, 'period': 4171, 'pad': 4172, 'billionair': 4173, 'glimps': 4174, 'hyderabad': 4175, 'junk': 4176, 'spam': 4177, 'immigr': 4178, 'hatr': 4179, 'tower': 4180, 'patriot': 4181, 'bradi': 4182, 'unconsci': 4183, 'android': 4184, 'partner': 4185, 'jar': 4186, 'colt': 4187, 'hebron': 4188, 'davidvonderhaar': 4189, 'freestyl': 4190, 'halifax': 4191, 'frog': 4192, '\\x89û¢åêdemolit': 4193, 'achimota': 4194, 'httptcoio7kuug1uq': 4195, 'fkn': 4196, 'cont': 4197, 'widespread': 4198, 'necessari': 4199, 'feder': 4200, 'subway': 4201, 'wout': 4202, 'empti': 4203, 'suspend': 4204, 'crippl': 4205, 'dw': 4206, 'undercov': 4207, 'garfield': 4208, 'ndtv': 4209, 'csx': 4210, 'knoxvil': 4211, 'fd': 4212, 'indiannew': 4213, 'harda': 4214, 'anxiou': 4215, 'httptcocedcugeuw': 4216, 'topstori': 4217, 'condol': 4218, 'fran': 4219, 'sacrific': 4220, 'abuseddesolateamplost': 4221, 'diesi': 4222, 'jerusalem': 4223, 'matt': 4224, 'photoset': 4225, 'sheeran': 4226, 'tangl': 4227, 'suspens': 4228, 'despair': 4229, 'persist': 4230, 'forth': 4231, 'decemb': 4232, 'fandom': 4233, 'competit': 4234, 'casino': 4235, 'zaynmalik': 4236, 'sj': 4237, '148': 4238, 'denier': 4239, 'hunger': 4240, 'rich': 4241, 'ate': 4242, 'ambit': 4243, 'gamescom': 4244, 'ontario': 4245, 'divid': 4246, 'grandeur': 4247, 'autumn': 4248, 'dorman': 4249, 'connector': 4250, 'esteem': 4251, 'realist': 4252, 'acdelco': 4253, 'tyler': 4254, '\\x89ûïrichmond': 4255, 'sitting\\x89û': 4256, 'perri': 4257, 'indoor': 4258, 'latestnew': 4259, 'www': 4260, 'decad': 4261, 'thorium': 4262, 'environment': 4263, 'korea': 4264, 'strengthen': 4265, 'haiyan': 4266, 'pirat': 4267, 'acquir': 4268, 'fist': 4269, 'scifi': 4270, 'wom': 4271, 'gn': 4272, 'nm': 4273, 'tortur': 4274, 'label': 4275, 'nv': 4276, 'relentless': 4277, 'raider': 4278, 'devot': 4279, 'cheer': 4280, 'gamerg': 4281, 'peterduttonmp': 4282, 'couldv': 4283, 'asylum': 4284, 'n': 4285, 'newzsacramento': 4286, 'april': 4287, 'weaken': 4288, 'outflow': 4289, 'httptco9nwajli9cr': 4290, 'eastbound': 4291, 'i15': 4292, 'raw': 4293, 'fest': 4294, 'helen': 4295, 'ml': 4296, 'c': 4297, 'legisl': 4298, '001116': 4299, '161116': 4300, 'nnw': 4301, 'at\\x89û': 4302, 'niall': 4303, 'socket': 4304, 'danisnotonfir': 4305, 'ac': 4306, 'jr': 4307, 'beard': 4308, 'any1': 4309, '17000': 4310, 'bbcnew': 4311, 'surgeri': 4312, 'tooth': 4313, 'teeth': 4314, 'medicin': 4315, 'kuwait': 4316, '11000': 4317, 'mre': 4318, 'indiana': 4319, 'lafayett': 4320, 'healthcar': 4321, 'addict': 4322, 'firetruck': 4323, 'declin': 4324, 'household': 4325, 'workplac': 4326, 'cruis': 4327, 'vietnames': 4328, 'conclud': 4329, 'overload': 4330, 'compar': 4331, 'tflbusalert': 4332, 'task': 4333, 'personnel': 4334, 'tx': 4335, 'ensur': 4336, 'followm': 4337, 'locksmith': 4338, 'thur': 4339, 'kodiak': 4340, 'henri': 4341, 'literarycak': 4342, 'manifest': 4343, 'incap': 4344, 'garag': 4345, 'summit': 4346, 'censu': 4347, 'efak': 4348, 'dungeon': 4349, 'milkshak': 4350, 'liveonk2': 4351, 'koin6new': 4352, '60000': 4353, 'casper': 4354, 'hook': 4355, 'mandatori': 4356, 'sheriff': 4357, 'bend': 4358, 'upward': 4359, 'philadelphia': 4360, 'alpha': 4361, 'sailor': 4362, 'joint': 4363, 'corey': 4364, 'orchard': 4365, 'bluff': 4366, 'timelaps': 4367, 'modern': 4368, 'hoist': 4369, 'hamburg': 4370, 'seal': 4371, 'soviet': 4372, 'function': 4373, 'feast': 4374, 'kiev': 4375, 'stronger': 4376, 'punjab': 4377, 'lego': 4378, 'francisco': 4379, 'news3lv': 4380, 'reserv': 4381, 'deadliest': 4382, 'hiroshima70': 4383, 'lobbi': 4384, '8th': 4385, 'yep': 4386, 'display': 4387, 'dm': 4388, 'sx': 4389, '109': 4390, 'sn': 4391, 'homi': 4392, 'midnight': 4393, 'disturb': 4394, 'creativ': 4395, 'throne': 4396, 'politifiact': 4397, 'catalina': 4398, 'langley': 4399, 'chp': 4400, 'njturnpik': 4401, 'mnpdnashvil': 4402, 'vip': 4403, 'luchaunderground': 4404, 'directli': 4405, 'sam': 4406, 'fallaci': 4407, 'jewelri': 4408, 'linerless': 4409, 'tractor': 4410, 'cuban': 4411, 'midwest': 4412, 'random': 4413, 'mmda': 4414, 'vision': 4415, 'travi': 4416, 'ju': 4417, 'erod': 4418, 'reckon': 4419, 'sunshin': 4420, 'bengal': 4421, 'cm': 4422, 'mamata': 4423, 'banerje': 4424, 'dvc': 4425, 'otherwis': 4426, 'sumn': 4427, 'careless': 4428, 'cole': 4429, 'sharpli': 4430, 'alga': 4431, 'bois': 4432, 'indonesia': 4433, 'taho': 4434, 'dump': 4435, 'cite': 4436, 'arwx': 4437, 'sturgi': 4438, 'kotaweath': 4439, 'custer': 4440, 'sd': 4441, 'proven': 4442, 'northeast': 4443, 'harmkid': 4444, 'httptco0wratka2jl': 4445, 'foul': 4446, 'plannedparenthood': 4447, 'lifestyl': 4448, 'kraft': 4449, 'argument': 4450, 'switch': 4451, 'keen': 4452, 'preciou': 4453, 'crystal': 4454, 'foodscar': 4455, 'offers2go': 4456, 'nestleindia': 4457, 'magginoodl': 4458, 'humanconsumpt': 4459, 'multidimensi': 4460, 'typo': 4461, 'temp': 4462, 'miseri': 4463, 'greatbritishbakeoff': 4464, 'ianhellfir': 4465, 'sew': 4466, 'repli': 4467, 'diablo': 4468, '0day': 4469, 'bypass': 4470, 'password': 4471, 'cheroke': 4472, 'cmon': 4473, '1976': 4474, 'korean': 4475, 'tomislav': 4476, 'salopek': 4477, 'croat': 4478, 'rumor': 4479, 'stood': 4480, 'surrend': 4481, '96': 4482, 'peer': 4483, 'nri': 4484, 'tdp': 4485, 'hurricanedolc': 4486, 'bluedio': 4487, 'headset': 4488, 'mock': 4489, 'lash': 4490, 'pattonoswalt': 4491, 'bolster': 4492, 'mcilroy': 4493, 'forgiven': 4494, 'regardless': 4495, 'longterm': 4496, 'costa': 4497, 'behavior': 4498, 'it\\x89û\\x9d': 4499, 'rb': 4500, 'lanc': 4501, 'adamrubinespn': 4502, 'cowboy': 4503, 'advertis': 4504, 'bot': 4505, 'platform': 4506, 'martinmj22': 4507, 'yougov': 4508, '36': 4509, 'dunde': 4510, 'hehe': 4511, 'reagan': 4512, '67': 4513, 'molten': 4514, 'certifi': 4515, 'patrol': 4516, 'abbott': 4517, 'gum': 4518, 'impuls': 4519, 'cbc': 4520, '10000': 4521, 'debatequestionswewanttohear': 4522, 'blah': 4523, 'therefor': 4524, 'aspect': 4525, 'honour': 4526, 'medal': 4527, 'andi': 4528, 'bass': 4529, 'candid': 4530, 'commoditiesåêar': 4531, 'midst': 4532, 'harass': 4533, 'fundrais': 4534, 'britishbakeoff': 4535, 'maker': 4536, 'bakeofffriend': 4537, 'spoil': 4538, 'grid': 4539, 'unavoid': 4540, 'httptcobbdpnj8xsx': 4541, 'cheap': 4542, 'askconnor': 4543, 'afp': 4544, 'wp': 4545, 'circuit': 4546, 'manual': 4547, 'nucleard': 4548, 'indojapan': 4549, 'pact': 4550, 'reactorbas': 4551, 'rworldnew': 4552, 'sonia': 4553, 'geniu': 4554, 'spectacular': 4555, 'globalwarm': 4556, 'strip': 4557, 'dose': 4558, '03': 4559, 'privileg': 4560, 'littledeath': 4561, 'deepwat': 4562, 'distribut': 4563, 'bankstown': 4564, 'wattl': 4565, 'bronx': 4566, 'httptco7hanpcr5rk': 4567, 'mania': 4568, 'newbi': 4569, 'overwhelm': 4570, 'acoust': 4571, 'linden': 4572, 'rhyme': 4573, 'shook': 4574, 'tinder': 4575, 'hurri': 4576, 'billi': 4577, 'bayonet': 4578, 'liverpool': 4579, 'onlinecommun': 4580, 'offensiveåêcont': 4581, 'exposur': 4582, 'ccot': 4583, 'wowo': 4584, 'refugees\\x89û': 4585, 'vice': 4586, '46': 4587, 'ppact': 4588, '367': 4589, 'briton': 4590, 'await': 4591, 'stranger': 4592, 'swept': 4593, 'sin': 4594, 'migrants\\x89û': 4595, 'drag': 4596, 'fri': 4597, 'interven': 4598, 'vitess': 4599, 'buildup': 4600, 'ireland': 4601, 'eric': 4602, 'cindi': 4603, 'noonancindynoonanheartbreak': 4604, 'yahistor': 4605, 'undergroundrailraod': 4606, 'plenti': 4607, 'championship': 4608, 'bhramabul': 4609, 'duo': 4610, 'p2': 4611, 'intent': 4612, 'layer': 4613, 'h': 4614, 'mommi': 4615, 'brook': 4616, 'idol': 4617, 'cultur': 4618, 'lemm': 4619, 'httptcobtdjgwekqx': 4620, '2d': 4621, 'sixmet': 4622, '150foot': 4623, 'evansvil': 4624, 'lloyd': 4625, 'flesh': 4626, 'edsheeran': 4627, 'void': 4628, '295ss100': 4629, 'amplifi': 4630, 'jennif': 4631, 'aniston': 4632, 'buck': 4633, 'toni': 4634, 'winner': 4635, 'alot': 4636, 'nake': 4637, 'magnetract': 4638, 'sassi': 4639, 'hunk': 4640, 'smoki': 4641, 'aom': 4642, 'ibooklov': 4643, 'bookboost': 4644, 'treeporn': 4645, 'boe': 4646, 'rightway': 4647, 'ct': 4648, 'vest': 4649, 'hom': 4650, 'grupdat': 4651, 'confess': 4652, 'ornament': 4653, 'forex': 4654, 'driverless': 4655, 'cafe': 4656, 'outcom': 4657, 'narrat': 4658, 'phillip': 4659, 'omega': 4660, 'religion': 4661, 'assad': 4662, 'httptcoj5mkcbkcov': 4663, 'burger': 4664, 'usnwsgov': 4665, 'oun': 4666, '1115': 4667, '61': 4668, 'mdt': 4669, 'tornadogiveaway': 4670, 'teas': 4671, 'cbcca': 4672, 'greater': 4673, 'for\\x89û': 4674, 'holli': 4675, 'nz': 4676, 'ptsdchat': 4677, 'hempoil': 4678, 'properli': 4679, 'flashback': 4680, 'strawberri': 4681, 'amen': 4682, 'shania': 4683, 'gg': 4684, 'revolt': 4685, 'schiphol': 4686, 'auckland': 4687, 'jupit': 4688, 'belli': 4689, '0104': 4690, 'asic': 4691, 'gtii': 4692, 'fieg': 4693, 'kith': 4694, '3m': 4695, 'thug': 4696, 'kitchen': 4697, 'firearm': 4698, 'slosher': 4699, 'hardlin': 4700, 'throwingknif': 4701, 'corrupt': 4702, 'splash': 4703, 'luhan': 4704, 'scissor': 4705, 'wipe': 4706, 'gunshot': 4707, 'florenc': 4708, 'buzzfe': 4709, 'makeup': 4710, 'script': 4711, 'hitchbot': 4712, 'smith': 4713, 'transmiss': 4714, 'balloon': 4715, 'camouflag': 4716, 'wallet': 4717, '20000': 4718, 'shane': 4719, 'doesn\\x89ûªt': 4720, 'bushfir': 4721, 'wage': 4722, '2040': 4723, 'bacup': 4724, 'carpent': 4725, 'cardin': 4726, 'raleigh': 4727, 'outskirt': 4728, 'shaunk': 4729, 'enforc': 4730, 'poetri': 4731, 'nonsens': 4732, 'oppon': 4733, 'obviou': 4734, 'submarin': 4735, 'golan': 4736, 'intim': 4737, 'hp': 4738, 'toy': 4739, 'warwick': 4740, 'terri': 4741, 'bead': 4742, 'accur': 4743, 'tbi': 4744, 'highlight': 4745, 'manipur': 4746, 'iri': 4747, 'tontitowngrap': 4748, 'tgf2015': 4749, 'harun': 4750, 'ìàekdar': 4751, 'wolverin': 4752, 'OOV': 4753}\n",
      "4753\n",
      "[[4753, 453, 212, 101, 1664, 1960, 15], [113, 2, 166, 4753, 4753, 1121], [1251, 486, 1810, 423, 4753, 226, 45, 1810, 423, 321, 539], [2722, 10, 1665, 95, 45, 321, 53], [41, 1316, 142, 3740, 1811, 201, 95, 2723, 150], [2724, 195, 53, 1812, 520, 331, 822, 357, 982, 332, 2, 4753, 95], [19, 22, 788, 185, 60, 751, 19, 408, 4753, 983, 752, 286], [182, 1252, 36, 2, 1961], [306, 17, 45, 160, 23, 753, 408], [1962, 395, 130, 286]]\n",
      "[[4753  453  212  101 1664 1960   15    0    0    0    0    0    0    0\n",
      "     0    0    0    0    0    0    0    0    0    0]\n",
      " [ 113    2  166 4753 4753 1121    0    0    0    0    0    0    0    0\n",
      "     0    0    0    0    0    0    0    0    0    0]\n",
      " [1251  486 1810  423 4753  226   45 1810  423  321  539    0    0    0\n",
      "     0    0    0    0    0    0    0    0    0    0]\n",
      " [2722   10 1665   95   45  321   53    0    0    0    0    0    0    0\n",
      "     0    0    0    0    0    0    0    0    0    0]\n",
      " [  41 1316  142 3740 1811  201   95 2723  150    0    0    0    0    0\n",
      "     0    0    0    0    0    0    0    0    0    0]\n",
      " [2724  195   53 1812  520  331  822  357  982  332    2 4753   95    0\n",
      "     0    0    0    0    0    0    0    0    0    0]\n",
      " [  19   22  788  185   60  751   19  408 4753  983  752  286    0    0\n",
      "     0    0    0    0    0    0    0    0    0    0]\n",
      " [ 182 1252   36    2 1961    0    0    0    0    0    0    0    0    0\n",
      "     0    0    0    0    0    0    0    0    0    0]\n",
      " [ 306   17   45  160   23  753  408    0    0    0    0    0    0    0\n",
      "     0    0    0    0    0    0    0    0    0    0]\n",
      " [1962  395  130  286    0    0    0    0    0    0    0    0    0    0\n",
      "     0    0    0    0    0    0    0    0    0    0]]\n"
     ]
    }
   ],
   "source": [
    "import numpy as np\n",
    "import pandas as pd\n",
    "import re\n",
    "import string\n",
    "import gensim #word2vec에 사용\n",
    "\n",
    "from nltk.corpus import stopwords #remove_stopwords 에 사용\n",
    "from nltk.stem import WordNetLemmatizer #lemmatization 에 사용\n",
    "from nltk.stem import PorterStemmer #stemming 에 사용\n",
    "from nltk import word_tokenize #tokenization 에 사용 주로 쓰는게 이것과 nltk 의 WordPunctTokenizer\n",
    "\n",
    "\n",
    "df_train = pd.read_csv(\"/kaggle/input/nlp-getting-started/train.csv\")\n",
    "df_test = pd.read_csv(\"/kaggle/input/nlp-getting-started/test.csv\")\n",
    "\n",
    "print('train set shape = {}'.format(df_train.shape))\n",
    "print('test set shape = {}'.format(df_test.shape))\n",
    "print(df_train.head())\n",
    "\n",
    "# url 제거\n",
    "def remove_url(text):\n",
    "    url = re.compile(r'https?://www.')\n",
    "    text = url.sub(r'', text)\n",
    "    return text\n",
    "\n",
    "# html 제거\n",
    "def remove_html(text):\n",
    "    html = re.compile(r'<.*?>')\n",
    "    text = html.sub(r'', text)\n",
    "    return text\n",
    "\n",
    "# punctuation 제거\n",
    "def remove_punctuation(text):\n",
    "    text = ''.join([char for char in text if char not in string.punctuation])\n",
    "    return text\n",
    "\n",
    "'''def remove_punctuation(text):\n",
    "    table = str.maketrans(string.punctuation, str([' ' for _ in range(len(string.punctuation))]))\n",
    "    text = text.translate(table)\n",
    "    return text'''\n",
    "'''\n",
    "문자 바꾸기\n",
    ">>> table = str.maketrans('aeiou', '12345') a는 1 e는 2 ... 에 대응하는 테이블이 만들어짐\n",
    ">>> 'apple'.translate(table) 테이블에 맞게 문자변경 (기존 apple이 바뀌는게 아님! immutable 이니께)\n",
    "'1ppl2'\n",
    "string.punctuation 과 길이가 같은 값을 넣어줘야하는데.. 리스트로 넣어줘야하는 argument면 [' ' for _ in range(len(string.punctuation))] 식으로 넣으면 될지도 \n",
    "위의 코드 억지로 str() 했는데도 안됨ㅜㅜ 일단 다른방식으로 쓰자\n",
    "'''\n",
    "'''\n",
    ">>> string.punctuation\n",
    "'!\"#$%&\\'()*+,-./:;<=>?@[\\\\]^_`{|}~'\n",
    "'''\n",
    "# stopwords 제거\n",
    "stopwords = set(stopwords.words()) # 앗 이거 함수 안으로 넣으면 안되네?\n",
    "#nltk의 stopwords는 wordcloud의 stopwords하고 다른가봐 후자는 그냥 단어 리스트를 줬는데 얘는 도구인듯. 이렇게 다시 한번 설정해줘야 한다.\n",
    "def remove_stopwords(text):\n",
    "    text = ' '.join([word for word in text.split() if word not in stopwords])\n",
    "    return text\n",
    "\n",
    "# lemmatization 작업\n",
    "def lemmatization(text):\n",
    "    n = WordNetLemmatizer()\n",
    "    text = ' '.join([n.lemmatize(word) for word in text.split()])\n",
    "    return text\n",
    "\n",
    "# stemming 작업\n",
    "p = PorterStemmer()\n",
    "def stemming_text(text):\n",
    "    text = ' '.join([p.stem(word) for word in text.split()]) #stem 뒤에는 리스트가 아니라 string이 들어가야 한다. 즉 리스트화와 stem의 순서를 바꿔줘야함\n",
    "    return text\n",
    "\n",
    "\n",
    "def cleaning_text(text):\n",
    "    #위의 helper function 전부 합친거. 더 예쁘고 간단하게 쓰고싶은데..\n",
    "    text = remove_url(text)\n",
    "    text = remove_html(text)\n",
    "    text = remove_punctuation(text)\n",
    "    text = text.lower()\n",
    "    text = remove_stopwords(text)\n",
    "    text = lemmatization(text)\n",
    "    text = stemming_text(text)\n",
    "    return text\n",
    "\n",
    "df_total = pd.concat([df_train, df_test])\n",
    "df_total['text'] = df_total['text'].apply(lambda x: cleaning_text(x))\n",
    "print(df_total['text'].head())\n",
    "# text cleaning 완료\n",
    "\n",
    "# tokenization\n",
    "# 토큰화 거치면 어떤 데이터타입으로 내보내야 하지? word2vec 이나 glove가 뭘 input 으로 받는지 확인\n",
    "def tokenization(text):\n",
    "    '''\n",
    "    라이브러리 안쓰고 그냥 이렇게도 하길래 나도 해봄 뭐야 제대로 안되는데?\n",
    "    tokens = re.split('/W+', text)\n",
    "    return tokens'''\n",
    "    tokens = word_tokenize(text)\n",
    "    return tokens\n",
    "\n",
    "tokens = df_total['text'].apply(lambda x: tokenization(x))\n",
    "print(tokens.head())\n",
    "\n",
    "'''# word embedding\n",
    "model = gensim.models.Word2Vec(size=150, window=5, workers=4, sg=0, min_count=5)\n",
    "model.build_vocab(tokens)\n",
    "model.train(sentences=tokens, total_examples=len(tokens), epochs=model.epochs)\n",
    "word_vectors = model.wv\n",
    "print(len(word_vectors.vocab))'''\n",
    "\n",
    "\n",
    "'''word_vectors = model.wv\n",
    "count = 0\n",
    "for word in word_vectors.vocab:\n",
    "    if count<10:\n",
    "        print(word)\n",
    "        count += 1\n",
    "    else:\n",
    "        break'''\n",
    "'''vector = model.wv[\"earthquak\"]  # model.mv가 단어 : 벡터로 이루어진 딕셔너리인듯\n",
    "print(len(vector))\n",
    "print(vector)'''\n",
    "\n",
    "# 정수 인코딩\n",
    "def gen_voca(tokenized_text):\n",
    "    voca = {}\n",
    "    for sample in tokenized_text:\n",
    "        for token in sample:\n",
    "            if token not in voca:\n",
    "                voca[token] = 0\n",
    "            else:\n",
    "                voca[token] += 1\n",
    "    return voca\n",
    "\n",
    "def indexing(voca, min_freq, voca_size):\n",
    "    voca_sorted = sorted(voca.items(), key = lambda x:x[1], reverse=True)\n",
    "    word_index = {}\n",
    "    i = 0\n",
    "    for (word, frequency) in voca_sorted:\n",
    "        if frequency > min_freq:\n",
    "            i += 1\n",
    "            word_index[word] = i\n",
    "\n",
    "    word_frequency = [w for w,c in word_index.items() if c > voca_size]\n",
    "    for w in word_frequency:\n",
    "        del word_index[w]\n",
    "    word_index['OOV'] = len(word_index) + 1\n",
    "\n",
    "    return word_index\n",
    "\n",
    "voca = gen_voca(tokens)\n",
    "print(len(voca))\n",
    "word_index = indexing(voca, 1, 10000) # 어차피 한번 나오는거 빼면 5000개도 안되네\n",
    "print(word_index)\n",
    "print(len(word_index))\n",
    "\n",
    "def integer_encoding(word_index, tokenized_text):\n",
    "    encoded = []\n",
    "    for sentence in tokenized_text:\n",
    "        temp = []\n",
    "        for word in sentence:\n",
    "            try:\n",
    "                temp.append(word_index[word])\n",
    "            except KeyError:\n",
    "                temp.append(word_index['OOV'])\n",
    "        encoded.append(temp)\n",
    "    return encoded\n",
    "\n",
    "encoded = integer_encoding(word_index, tokens)\n",
    "print(encoded[:10])\n",
    "\n",
    "def padding(encoded):\n",
    "    max_len = 0\n",
    "    for s in encoded:\n",
    "        if len(s) > max_len:\n",
    "            max_len = len(s)\n",
    "\n",
    "    for s in encoded:\n",
    "        while len(s) < max_len:\n",
    "            s.append(0)\n",
    "\n",
    "    padded_np = np.array(encoded)\n",
    "    return padded_np\n",
    "\n",
    "padded_np = padding(encoded)\n",
    "print(padded_np[:10])\n"
   ]
  },
  {
   "cell_type": "code",
   "execution_count": 3,
   "metadata": {},
   "outputs": [
    {
     "name": "stdout",
     "output_type": "stream",
     "text": [
      "(7613, 24)\n",
      "(3263, 24)\n",
      "(7613, 1)\n"
     ]
    }
   ],
   "source": [
    "x_train = padded_np[:len(df_train)]\n",
    "x_test = padded_np[len(df_train):]\n",
    "y_train = np.array(df_train.target).reshape(-1, 1)\n",
    "print(x_train.shape)\n",
    "print(x_test.shape)\n",
    "print(y_train.shape)"
   ]
  },
  {
   "cell_type": "code",
   "execution_count": 4,
   "metadata": {},
   "outputs": [],
   "source": [
    "#원핫인코딩\n",
    "from tensorflow.keras.utils import to_categorical\n",
    "\n",
    "x_train_onehot = to_categorical(x_train)\n",
    "x_test_onehot = to_categorical(x_test)"
   ]
  },
  {
   "cell_type": "code",
   "execution_count": 5,
   "metadata": {},
   "outputs": [
    {
     "data": {
      "text/plain": [
       "(7613, 24, 4754)"
      ]
     },
     "execution_count": 5,
     "metadata": {},
     "output_type": "execute_result"
    }
   ],
   "source": [
    "x_train_onehot.shape"
   ]
  },
  {
   "cell_type": "code",
   "execution_count": 6,
   "metadata": {},
   "outputs": [
    {
     "data": {
      "text/plain": [
       "3474451392"
      ]
     },
     "execution_count": 6,
     "metadata": {},
     "output_type": "execute_result"
    }
   ],
   "source": [
    "x_train_onehot.nbytes"
   ]
  },
  {
   "cell_type": "code",
   "execution_count": 7,
   "metadata": {},
   "outputs": [],
   "source": [
    "from tensorflow.keras.models import Sequential\n",
    "from tensorflow.keras.layers import Dense, SimpleRNN\n",
    "from tensorflow.keras.layers import Embedding"
   ]
  },
  {
   "cell_type": "code",
   "execution_count": 8,
   "metadata": {},
   "outputs": [
    {
     "name": "stdout",
     "output_type": "stream",
     "text": [
      "Model: \"sequential\"\n",
      "_________________________________________________________________\n",
      "Layer (type)                 Output Shape              Param #   \n",
      "=================================================================\n",
      "embedding (Embedding)        (None, None, 32)          152128    \n",
      "_________________________________________________________________\n",
      "simple_rnn (SimpleRNN)       (None, 8)                 328       \n",
      "_________________________________________________________________\n",
      "dense (Dense)                (None, 1)                 9         \n",
      "=================================================================\n",
      "Total params: 152,465\n",
      "Trainable params: 152,465\n",
      "Non-trainable params: 0\n",
      "_________________________________________________________________\n"
     ]
    }
   ],
   "source": [
    "model = Sequential()\n",
    "\n",
    "model.add(Embedding(4754, 32))\n",
    "model.add(SimpleRNN(8))\n",
    "model.add(Dense(1, activation='sigmoid'))\n",
    "\n",
    "model.summary()"
   ]
  },
  {
   "cell_type": "code",
   "execution_count": 9,
   "metadata": {},
   "outputs": [
    {
     "name": "stdout",
     "output_type": "stream",
     "text": [
      "Epoch 1/20\n",
      "238/238 [==============================] - 2s 6ms/step - loss: 0.6717 - accuracy: 0.5780\n",
      "Epoch 2/20\n",
      "238/238 [==============================] - 2s 7ms/step - loss: 0.6551 - accuracy: 0.6164\n",
      "Epoch 3/20\n",
      "238/238 [==============================] - 2s 6ms/step - loss: 0.6340 - accuracy: 0.6516\n",
      "Epoch 4/20\n",
      "238/238 [==============================] - 2s 7ms/step - loss: 0.6050 - accuracy: 0.6904\n",
      "Epoch 5/20\n",
      "238/238 [==============================] - 2s 7ms/step - loss: 0.5778 - accuracy: 0.7157\n",
      "Epoch 6/20\n",
      "238/238 [==============================] - 2s 6ms/step - loss: 0.5522 - accuracy: 0.7378\n",
      "Epoch 7/20\n",
      "238/238 [==============================] - 2s 7ms/step - loss: 0.5302 - accuracy: 0.7553\n",
      "Epoch 8/20\n",
      "238/238 [==============================] - 2s 7ms/step - loss: 0.5133 - accuracy: 0.7663\n",
      "Epoch 9/20\n",
      "238/238 [==============================] - 2s 7ms/step - loss: 0.4927 - accuracy: 0.7825\n",
      "Epoch 10/20\n",
      "238/238 [==============================] - 2s 7ms/step - loss: 0.4829 - accuracy: 0.7890\n",
      "Epoch 11/20\n",
      "238/238 [==============================] - 2s 7ms/step - loss: 0.4697 - accuracy: 0.7952\n",
      "Epoch 12/20\n",
      "238/238 [==============================] - 2s 7ms/step - loss: 0.4548 - accuracy: 0.8053\n",
      "Epoch 13/20\n",
      "238/238 [==============================] - 2s 7ms/step - loss: 0.4511 - accuracy: 0.8074\n",
      "Epoch 14/20\n",
      "238/238 [==============================] - 2s 7ms/step - loss: 0.4421 - accuracy: 0.8108\n",
      "Epoch 15/20\n",
      "238/238 [==============================] - 2s 7ms/step - loss: 0.4340 - accuracy: 0.8208\n",
      "Epoch 16/20\n",
      "238/238 [==============================] - 2s 6ms/step - loss: 0.4202 - accuracy: 0.8246\n",
      "Epoch 17/20\n",
      "238/238 [==============================] - 2s 7ms/step - loss: 0.4074 - accuracy: 0.8327\n",
      "Epoch 18/20\n",
      "238/238 [==============================] - 2s 7ms/step - loss: 0.3957 - accuracy: 0.8391\n",
      "Epoch 19/20\n",
      "238/238 [==============================] - 2s 7ms/step - loss: 0.3930 - accuracy: 0.8408\n",
      "Epoch 20/20\n",
      "238/238 [==============================] - 2s 7ms/step - loss: 0.3940 - accuracy: 0.8409\n"
     ]
    }
   ],
   "source": [
    "model.compile(optimizer='sgd', loss='binary_crossentropy', metrics=['accuracy'])\n",
    "\n",
    "history = model.fit(x_train, y_train, epochs=20, batch_size=32)"
   ]
  },
  {
   "cell_type": "code",
   "execution_count": 10,
   "metadata": {},
   "outputs": [],
   "source": [
    "import matplotlib.pyplot as plt"
   ]
  },
  {
   "cell_type": "code",
   "execution_count": 11,
   "metadata": {},
   "outputs": [
    {
     "data": {
      "image/png": "[encoded data removed]",
      "text/plain": [
       "<Figure size 432x288 with 1 Axes>"
      ]
     },
     "metadata": {
      "needs_background": "light"
     },
     "output_type": "display_data"
    }
   ],
   "source": [
    "plt.plot(history.history['accuracy'])\n",
    "plt.show()"
   ]
  },
  {
   "cell_type": "code",
   "execution_count": 12,
   "metadata": {},
   "outputs": [],
   "source": [
    "a = model.predict(x_test)"
   ]
  },
  {
   "cell_type": "code",
   "execution_count": 13,
   "metadata": {},
   "outputs": [
    {
     "data": {
      "text/plain": [
       "[1, 1, 1, 1, 1, 1, 0, 0, 0, 0]"
      ]
     },
     "execution_count": 13,
     "metadata": {},
     "output_type": "execute_result"
    }
   ],
   "source": [
    "y_hat = []\n",
    "for i in a:\n",
    "    if i > 0.5:\n",
    "        y_hat.append(1)\n",
    "    else:\n",
    "        y_hat.append(0)\n",
    "        \n",
    "y_hat[:10]"
   ]
  },
  {
   "cell_type": "code",
   "execution_count": 14,
   "metadata": {},
   "outputs": [],
   "source": [
    "submission = pd.read_csv(\"/kaggle/input/nlp-getting-started/sample_submission.csv\")\n",
    "submission.target = y_hat"
   ]
  },
  {
   "cell_type": "code",
   "execution_count": 15,
   "metadata": {},
   "outputs": [],
   "source": [
    "submission.to_csv('submission.csv', index=False)"
   ]
  },
  {
   "cell_type": "code",
   "execution_count": null,
   "metadata": {},
   "outputs": [],
   "source": []
  }
 ],
 "metadata": {
  "kernelspec": {
   "display_name": "Python 3",
   "language": "python",
   "name": "python3"
  },
  "language_info": {
   "codemirror_mode": {
    "name": "ipython",
    "version": 3
   },
   "file_extension": ".py",
   "mimetype": "text/x-python",
   "name": "python",
   "nbconvert_exporter": "python",
   "pygments_lexer": "ipython3",
   "version": "3.7.6"
  }
 },
 "nbformat": 4,
 "nbformat_minor": 4
}
